{
  "cells": [
    {
      "cell_type": "markdown",
      "metadata": {
        "id": "view-in-github",
        "colab_type": "text"
      },
      "source": [
        "<a href=\"https://colab.research.google.com/github/KamilShape/twitter_sentiment_analysis/blob/main/twitter_sentiment_analysis.ipynb\" target=\"_parent\"><img src=\"https://colab.research.google.com/assets/colab-badge.svg\" alt=\"Open In Colab\"/></a>"
      ]
    },
    {
      "cell_type": "markdown",
      "metadata": {
        "id": "Gw50ewrga9Jf"
      },
      "source": [
        "#**TWITTER SENTIMENT ANALYSIS** \n"
      ],
      "id": "Gw50ewrga9Jf"
    },
    {
      "cell_type": "markdown",
      "metadata": {
        "id": "kkFkrx7dbJUn"
      },
      "source": [
        "The objective of this project is to develop a machine learning model that can predict tweet text class if there is negative or positive content. Database consist 1,600,000 datas. Naive Bayess, Logistic Regression and Neural Network are used for accurately predicting type of text .\n",
        "\n",
        "Dataset description:\n",
        "- 0 - the polarity of the tweet (0 = negative, 2 = neutral, 4 = positive)\n",
        "- 1 - the id of the tweet (2087)\n",
        "- 2 - the date of the tweet (Sat May 16 23:58:44 UTC 2009)\n",
        "- 3 - the query (lyx). If there is no query, then this value is NO_QUERY.\n",
        "- 4 - the user that tweeted (robotickilldozr)\n",
        "- 5 - the text of the tweet (Lyx is cool)"
      ],
      "id": "kkFkrx7dbJUn"
    },
    {
      "cell_type": "markdown",
      "metadata": {
        "id": "4568e8ee"
      },
      "source": [
        "## **1. Importing and validation data**"
      ],
      "id": "4568e8ee"
    },
    {
      "cell_type": "code",
      "source": [
        "!pip show keras"
      ],
      "metadata": {
        "colab": {
          "base_uri": "https://localhost:8080/"
        },
        "id": "JQb-OYAuULuE",
        "outputId": "3c304eb0-223f-444d-ff8d-bb2f05e45737"
      },
      "id": "JQb-OYAuULuE",
      "execution_count": 1,
      "outputs": [
        {
          "output_type": "stream",
          "name": "stdout",
          "text": [
            "Name: keras\n",
            "Version: 2.12.0\n",
            "Summary: Deep learning for humans.\n",
            "Home-page: https://keras.io/\n",
            "Author: Keras team\n",
            "Author-email: keras-users@googlegroups.com\n",
            "License: Apache 2.0\n",
            "Location: /usr/local/lib/python3.10/dist-packages\n",
            "Requires: \n",
            "Required-by: tensorflow\n"
          ]
        }
      ]
    },
    {
      "cell_type": "code",
      "execution_count": 2,
      "metadata": {
        "id": "ea3f49da"
      },
      "outputs": [],
      "source": [
        "import re\n",
        "import pandas as pd\n",
        "import numpy as np\n",
        "import seaborn as sns\n",
        "import matplotlib.pyplot as plt\n",
        "import matplotlib\n",
        "import string\n",
        "import nltk\n",
        "from nltk.tokenize import word_tokenize\n",
        "import dask.dataframe as dd\n",
        "import gensim.downloader as api\n",
        "#----------------------------sklearn-----------------------------\n",
        "from sklearn.model_selection import train_test_split\n",
        "from sklearn.feature_extraction.text import TfidfVectorizer\n",
        "from sklearn.svm import SVC\n",
        "from sklearn.naive_bayes import BernoulliNB\n",
        "from sklearn.linear_model import LogisticRegression\n",
        "from sklearn.metrics import confusion_matrix, classification_report\n",
        "from sklearn.ensemble import RandomForestClassifier\n",
        "from sklearn.metrics import roc_curve, roc_auc_score\n",
        "#----------------------------keras-------------------------------\n",
        "from keras.preprocessing.text import Tokenizer\n",
        "from keras.utils import pad_sequences\n",
        "from keras.models import Sequential\n",
        "from keras.layers import Embedding, LSTM, Dense, Dropout\n",
        "from keras.initializers import Constant\n",
        "from keras.optimizers import Adam"
      ],
      "id": "ea3f49da"
    },
    {
      "cell_type": "code",
      "execution_count": 3,
      "metadata": {
        "id": "886bd9e8"
      },
      "outputs": [],
      "source": [
        "COLUMNS = ['Polarity', 'ID', 'Date', 'Query', 'User_name', 'Text']\n",
        "ENCODING = \"ISO-8859-1\""
      ],
      "id": "886bd9e8"
    },
    {
      "cell_type": "code",
      "execution_count": 4,
      "metadata": {
        "id": "pAioijcPYUoq",
        "colab": {
          "base_uri": "https://localhost:8080/"
        },
        "outputId": "2d053803-734d-4496-aebd-e2e7bf559cfd"
      },
      "outputs": [
        {
          "output_type": "stream",
          "name": "stdout",
          "text": [
            "Mounted at /content/drive\n"
          ]
        }
      ],
      "source": [
        "from google.colab import drive\n",
        "drive.mount('/content/drive')"
      ],
      "id": "pAioijcPYUoq"
    },
    {
      "cell_type": "code",
      "execution_count": 5,
      "metadata": {
        "id": "c340f34d"
      },
      "outputs": [],
      "source": [
        "# before you load data, it's necessary to download from github: https://drive.google.com/drive/folders/1cPWD1vz4bUB8GmrrMURE1JFjV8UHcdmm?usp=sharing and load into your google drive\n",
        "tweets = pd.read_csv(\"/content/drive/MyDrive/twitter2.csv\", encoding=ENCODING, names = COLUMNS )"
      ],
      "id": "c340f34d"
    },
    {
      "cell_type": "code",
      "execution_count": 6,
      "metadata": {
        "colab": {
          "base_uri": "https://localhost:8080/",
          "height": 363
        },
        "id": "a30cd231",
        "outputId": "6bf74f74-e40c-4efb-d579-58fbc0171f96"
      },
      "outputs": [
        {
          "output_type": "execute_result",
          "data": {
            "text/plain": [
              "   Polarity          ID                          Date     Query  \\\n",
              "0         0  1467810369  Mon Apr 06 22:19:45 PDT 2009  NO_QUERY   \n",
              "1         0  1467810672  Mon Apr 06 22:19:49 PDT 2009  NO_QUERY   \n",
              "2         0  1467810917  Mon Apr 06 22:19:53 PDT 2009  NO_QUERY   \n",
              "3         0  1467811184  Mon Apr 06 22:19:57 PDT 2009  NO_QUERY   \n",
              "4         0  1467811193  Mon Apr 06 22:19:57 PDT 2009  NO_QUERY   \n",
              "5         0  1467811372  Mon Apr 06 22:20:00 PDT 2009  NO_QUERY   \n",
              "6         0  1467811592  Mon Apr 06 22:20:03 PDT 2009  NO_QUERY   \n",
              "7         0  1467811594  Mon Apr 06 22:20:03 PDT 2009  NO_QUERY   \n",
              "8         0  1467811795  Mon Apr 06 22:20:05 PDT 2009  NO_QUERY   \n",
              "9         0  1467812025  Mon Apr 06 22:20:09 PDT 2009  NO_QUERY   \n",
              "\n",
              "         User_name                                               Text  \n",
              "0  _TheSpecialOne_  @switchfoot http://twitpic.com/2y1zl - Awww, t...  \n",
              "1    scotthamilton  is upset that he can't update his Facebook by ...  \n",
              "2         mattycus  @Kenichan I dived many times for the ball. Man...  \n",
              "3          ElleCTF    my whole body feels itchy and like its on fire   \n",
              "4           Karoli  @nationwideclass no, it's not behaving at all....  \n",
              "5         joy_wolf                      @Kwesidei not the whole crew   \n",
              "6          mybirch                                        Need a hug   \n",
              "7             coZZ  @LOLTrish hey  long time no see! Yes.. Rains a...  \n",
              "8  2Hood4Hollywood               @Tatiana_K nope they didn't have it   \n",
              "9          mimismo                          @twittera que me muera ?   "
            ],
            "text/html": [
              "\n",
              "  <div id=\"df-66eed327-73d9-4d66-a94c-a30afa2e782c\">\n",
              "    <div class=\"colab-df-container\">\n",
              "      <div>\n",
              "<style scoped>\n",
              "    .dataframe tbody tr th:only-of-type {\n",
              "        vertical-align: middle;\n",
              "    }\n",
              "\n",
              "    .dataframe tbody tr th {\n",
              "        vertical-align: top;\n",
              "    }\n",
              "\n",
              "    .dataframe thead th {\n",
              "        text-align: right;\n",
              "    }\n",
              "</style>\n",
              "<table border=\"1\" class=\"dataframe\">\n",
              "  <thead>\n",
              "    <tr style=\"text-align: right;\">\n",
              "      <th></th>\n",
              "      <th>Polarity</th>\n",
              "      <th>ID</th>\n",
              "      <th>Date</th>\n",
              "      <th>Query</th>\n",
              "      <th>User_name</th>\n",
              "      <th>Text</th>\n",
              "    </tr>\n",
              "  </thead>\n",
              "  <tbody>\n",
              "    <tr>\n",
              "      <th>0</th>\n",
              "      <td>0</td>\n",
              "      <td>1467810369</td>\n",
              "      <td>Mon Apr 06 22:19:45 PDT 2009</td>\n",
              "      <td>NO_QUERY</td>\n",
              "      <td>_TheSpecialOne_</td>\n",
              "      <td>@switchfoot http://twitpic.com/2y1zl - Awww, t...</td>\n",
              "    </tr>\n",
              "    <tr>\n",
              "      <th>1</th>\n",
              "      <td>0</td>\n",
              "      <td>1467810672</td>\n",
              "      <td>Mon Apr 06 22:19:49 PDT 2009</td>\n",
              "      <td>NO_QUERY</td>\n",
              "      <td>scotthamilton</td>\n",
              "      <td>is upset that he can't update his Facebook by ...</td>\n",
              "    </tr>\n",
              "    <tr>\n",
              "      <th>2</th>\n",
              "      <td>0</td>\n",
              "      <td>1467810917</td>\n",
              "      <td>Mon Apr 06 22:19:53 PDT 2009</td>\n",
              "      <td>NO_QUERY</td>\n",
              "      <td>mattycus</td>\n",
              "      <td>@Kenichan I dived many times for the ball. Man...</td>\n",
              "    </tr>\n",
              "    <tr>\n",
              "      <th>3</th>\n",
              "      <td>0</td>\n",
              "      <td>1467811184</td>\n",
              "      <td>Mon Apr 06 22:19:57 PDT 2009</td>\n",
              "      <td>NO_QUERY</td>\n",
              "      <td>ElleCTF</td>\n",
              "      <td>my whole body feels itchy and like its on fire</td>\n",
              "    </tr>\n",
              "    <tr>\n",
              "      <th>4</th>\n",
              "      <td>0</td>\n",
              "      <td>1467811193</td>\n",
              "      <td>Mon Apr 06 22:19:57 PDT 2009</td>\n",
              "      <td>NO_QUERY</td>\n",
              "      <td>Karoli</td>\n",
              "      <td>@nationwideclass no, it's not behaving at all....</td>\n",
              "    </tr>\n",
              "    <tr>\n",
              "      <th>5</th>\n",
              "      <td>0</td>\n",
              "      <td>1467811372</td>\n",
              "      <td>Mon Apr 06 22:20:00 PDT 2009</td>\n",
              "      <td>NO_QUERY</td>\n",
              "      <td>joy_wolf</td>\n",
              "      <td>@Kwesidei not the whole crew</td>\n",
              "    </tr>\n",
              "    <tr>\n",
              "      <th>6</th>\n",
              "      <td>0</td>\n",
              "      <td>1467811592</td>\n",
              "      <td>Mon Apr 06 22:20:03 PDT 2009</td>\n",
              "      <td>NO_QUERY</td>\n",
              "      <td>mybirch</td>\n",
              "      <td>Need a hug</td>\n",
              "    </tr>\n",
              "    <tr>\n",
              "      <th>7</th>\n",
              "      <td>0</td>\n",
              "      <td>1467811594</td>\n",
              "      <td>Mon Apr 06 22:20:03 PDT 2009</td>\n",
              "      <td>NO_QUERY</td>\n",
              "      <td>coZZ</td>\n",
              "      <td>@LOLTrish hey  long time no see! Yes.. Rains a...</td>\n",
              "    </tr>\n",
              "    <tr>\n",
              "      <th>8</th>\n",
              "      <td>0</td>\n",
              "      <td>1467811795</td>\n",
              "      <td>Mon Apr 06 22:20:05 PDT 2009</td>\n",
              "      <td>NO_QUERY</td>\n",
              "      <td>2Hood4Hollywood</td>\n",
              "      <td>@Tatiana_K nope they didn't have it</td>\n",
              "    </tr>\n",
              "    <tr>\n",
              "      <th>9</th>\n",
              "      <td>0</td>\n",
              "      <td>1467812025</td>\n",
              "      <td>Mon Apr 06 22:20:09 PDT 2009</td>\n",
              "      <td>NO_QUERY</td>\n",
              "      <td>mimismo</td>\n",
              "      <td>@twittera que me muera ?</td>\n",
              "    </tr>\n",
              "  </tbody>\n",
              "</table>\n",
              "</div>\n",
              "      <button class=\"colab-df-convert\" onclick=\"convertToInteractive('df-66eed327-73d9-4d66-a94c-a30afa2e782c')\"\n",
              "              title=\"Convert this dataframe to an interactive table.\"\n",
              "              style=\"display:none;\">\n",
              "        \n",
              "  <svg xmlns=\"http://www.w3.org/2000/svg\" height=\"24px\"viewBox=\"0 0 24 24\"\n",
              "       width=\"24px\">\n",
              "    <path d=\"M0 0h24v24H0V0z\" fill=\"none\"/>\n",
              "    <path d=\"M18.56 5.44l.94 2.06.94-2.06 2.06-.94-2.06-.94-.94-2.06-.94 2.06-2.06.94zm-11 1L8.5 8.5l.94-2.06 2.06-.94-2.06-.94L8.5 2.5l-.94 2.06-2.06.94zm10 10l.94 2.06.94-2.06 2.06-.94-2.06-.94-.94-2.06-.94 2.06-2.06.94z\"/><path d=\"M17.41 7.96l-1.37-1.37c-.4-.4-.92-.59-1.43-.59-.52 0-1.04.2-1.43.59L10.3 9.45l-7.72 7.72c-.78.78-.78 2.05 0 2.83L4 21.41c.39.39.9.59 1.41.59.51 0 1.02-.2 1.41-.59l7.78-7.78 2.81-2.81c.8-.78.8-2.07 0-2.86zM5.41 20L4 18.59l7.72-7.72 1.47 1.35L5.41 20z\"/>\n",
              "  </svg>\n",
              "      </button>\n",
              "      \n",
              "  <style>\n",
              "    .colab-df-container {\n",
              "      display:flex;\n",
              "      flex-wrap:wrap;\n",
              "      gap: 12px;\n",
              "    }\n",
              "\n",
              "    .colab-df-convert {\n",
              "      background-color: #E8F0FE;\n",
              "      border: none;\n",
              "      border-radius: 50%;\n",
              "      cursor: pointer;\n",
              "      display: none;\n",
              "      fill: #1967D2;\n",
              "      height: 32px;\n",
              "      padding: 0 0 0 0;\n",
              "      width: 32px;\n",
              "    }\n",
              "\n",
              "    .colab-df-convert:hover {\n",
              "      background-color: #E2EBFA;\n",
              "      box-shadow: 0px 1px 2px rgba(60, 64, 67, 0.3), 0px 1px 3px 1px rgba(60, 64, 67, 0.15);\n",
              "      fill: #174EA6;\n",
              "    }\n",
              "\n",
              "    [theme=dark] .colab-df-convert {\n",
              "      background-color: #3B4455;\n",
              "      fill: #D2E3FC;\n",
              "    }\n",
              "\n",
              "    [theme=dark] .colab-df-convert:hover {\n",
              "      background-color: #434B5C;\n",
              "      box-shadow: 0px 1px 3px 1px rgba(0, 0, 0, 0.15);\n",
              "      filter: drop-shadow(0px 1px 2px rgba(0, 0, 0, 0.3));\n",
              "      fill: #FFFFFF;\n",
              "    }\n",
              "  </style>\n",
              "\n",
              "      <script>\n",
              "        const buttonEl =\n",
              "          document.querySelector('#df-66eed327-73d9-4d66-a94c-a30afa2e782c button.colab-df-convert');\n",
              "        buttonEl.style.display =\n",
              "          google.colab.kernel.accessAllowed ? 'block' : 'none';\n",
              "\n",
              "        async function convertToInteractive(key) {\n",
              "          const element = document.querySelector('#df-66eed327-73d9-4d66-a94c-a30afa2e782c');\n",
              "          const dataTable =\n",
              "            await google.colab.kernel.invokeFunction('convertToInteractive',\n",
              "                                                     [key], {});\n",
              "          if (!dataTable) return;\n",
              "\n",
              "          const docLinkHtml = 'Like what you see? Visit the ' +\n",
              "            '<a target=\"_blank\" href=https://colab.research.google.com/notebooks/data_table.ipynb>data table notebook</a>'\n",
              "            + ' to learn more about interactive tables.';\n",
              "          element.innerHTML = '';\n",
              "          dataTable['output_type'] = 'display_data';\n",
              "          await google.colab.output.renderOutput(dataTable, element);\n",
              "          const docLink = document.createElement('div');\n",
              "          docLink.innerHTML = docLinkHtml;\n",
              "          element.appendChild(docLink);\n",
              "        }\n",
              "      </script>\n",
              "    </div>\n",
              "  </div>\n",
              "  "
            ]
          },
          "metadata": {},
          "execution_count": 6
        }
      ],
      "source": [
        "tweets.head(10)"
      ],
      "id": "a30cd231"
    },
    {
      "cell_type": "code",
      "execution_count": 7,
      "metadata": {
        "colab": {
          "base_uri": "https://localhost:8080/"
        },
        "id": "fc863e81",
        "outputId": "dcd05680-8b8d-4e55-b09a-69276bad4d5b"
      },
      "outputs": [
        {
          "output_type": "execute_result",
          "data": {
            "text/plain": [
              "1600000"
            ]
          },
          "metadata": {},
          "execution_count": 7
        }
      ],
      "source": [
        "len(tweets)"
      ],
      "id": "fc863e81"
    },
    {
      "cell_type": "markdown",
      "metadata": {
        "id": "5d924f17"
      },
      "source": [
        "#### 1.2 Dataset info:"
      ],
      "id": "5d924f17"
    },
    {
      "cell_type": "code",
      "execution_count": 8,
      "metadata": {
        "colab": {
          "base_uri": "https://localhost:8080/"
        },
        "id": "a45d676c",
        "outputId": "32143e46-5832-4ad0-eaff-8e32f0b421fb"
      },
      "outputs": [
        {
          "output_type": "stream",
          "name": "stdout",
          "text": [
            "<class 'pandas.core.frame.DataFrame'>\n",
            "RangeIndex: 1600000 entries, 0 to 1599999\n",
            "Data columns (total 6 columns):\n",
            " #   Column     Non-Null Count    Dtype \n",
            "---  ------     --------------    ----- \n",
            " 0   Polarity   1600000 non-null  int64 \n",
            " 1   ID         1600000 non-null  int64 \n",
            " 2   Date       1600000 non-null  object\n",
            " 3   Query      1600000 non-null  object\n",
            " 4   User_name  1600000 non-null  object\n",
            " 5   Text       1600000 non-null  object\n",
            "dtypes: int64(2), object(4)\n",
            "memory usage: 73.2+ MB\n"
          ]
        }
      ],
      "source": [
        "tweets.info()"
      ],
      "id": "a45d676c"
    },
    {
      "cell_type": "code",
      "execution_count": 9,
      "metadata": {
        "colab": {
          "base_uri": "https://localhost:8080/",
          "height": 300
        },
        "id": "7171db96",
        "outputId": "aa9747b6-2d5e-4829-8c00-646a270f62e2"
      },
      "outputs": [
        {
          "output_type": "execute_result",
          "data": {
            "text/plain": [
              "           Polarity            ID\n",
              "count  1.600000e+06  1.600000e+06\n",
              "mean   2.000000e+00  1.998818e+09\n",
              "std    2.000001e+00  1.935761e+08\n",
              "min    0.000000e+00  1.467810e+09\n",
              "25%    0.000000e+00  1.956916e+09\n",
              "50%    2.000000e+00  2.002102e+09\n",
              "75%    4.000000e+00  2.177059e+09\n",
              "max    4.000000e+00  2.329206e+09"
            ],
            "text/html": [
              "\n",
              "  <div id=\"df-b0bed2c3-e166-4ad9-b3f0-c898b039b45d\">\n",
              "    <div class=\"colab-df-container\">\n",
              "      <div>\n",
              "<style scoped>\n",
              "    .dataframe tbody tr th:only-of-type {\n",
              "        vertical-align: middle;\n",
              "    }\n",
              "\n",
              "    .dataframe tbody tr th {\n",
              "        vertical-align: top;\n",
              "    }\n",
              "\n",
              "    .dataframe thead th {\n",
              "        text-align: right;\n",
              "    }\n",
              "</style>\n",
              "<table border=\"1\" class=\"dataframe\">\n",
              "  <thead>\n",
              "    <tr style=\"text-align: right;\">\n",
              "      <th></th>\n",
              "      <th>Polarity</th>\n",
              "      <th>ID</th>\n",
              "    </tr>\n",
              "  </thead>\n",
              "  <tbody>\n",
              "    <tr>\n",
              "      <th>count</th>\n",
              "      <td>1.600000e+06</td>\n",
              "      <td>1.600000e+06</td>\n",
              "    </tr>\n",
              "    <tr>\n",
              "      <th>mean</th>\n",
              "      <td>2.000000e+00</td>\n",
              "      <td>1.998818e+09</td>\n",
              "    </tr>\n",
              "    <tr>\n",
              "      <th>std</th>\n",
              "      <td>2.000001e+00</td>\n",
              "      <td>1.935761e+08</td>\n",
              "    </tr>\n",
              "    <tr>\n",
              "      <th>min</th>\n",
              "      <td>0.000000e+00</td>\n",
              "      <td>1.467810e+09</td>\n",
              "    </tr>\n",
              "    <tr>\n",
              "      <th>25%</th>\n",
              "      <td>0.000000e+00</td>\n",
              "      <td>1.956916e+09</td>\n",
              "    </tr>\n",
              "    <tr>\n",
              "      <th>50%</th>\n",
              "      <td>2.000000e+00</td>\n",
              "      <td>2.002102e+09</td>\n",
              "    </tr>\n",
              "    <tr>\n",
              "      <th>75%</th>\n",
              "      <td>4.000000e+00</td>\n",
              "      <td>2.177059e+09</td>\n",
              "    </tr>\n",
              "    <tr>\n",
              "      <th>max</th>\n",
              "      <td>4.000000e+00</td>\n",
              "      <td>2.329206e+09</td>\n",
              "    </tr>\n",
              "  </tbody>\n",
              "</table>\n",
              "</div>\n",
              "      <button class=\"colab-df-convert\" onclick=\"convertToInteractive('df-b0bed2c3-e166-4ad9-b3f0-c898b039b45d')\"\n",
              "              title=\"Convert this dataframe to an interactive table.\"\n",
              "              style=\"display:none;\">\n",
              "        \n",
              "  <svg xmlns=\"http://www.w3.org/2000/svg\" height=\"24px\"viewBox=\"0 0 24 24\"\n",
              "       width=\"24px\">\n",
              "    <path d=\"M0 0h24v24H0V0z\" fill=\"none\"/>\n",
              "    <path d=\"M18.56 5.44l.94 2.06.94-2.06 2.06-.94-2.06-.94-.94-2.06-.94 2.06-2.06.94zm-11 1L8.5 8.5l.94-2.06 2.06-.94-2.06-.94L8.5 2.5l-.94 2.06-2.06.94zm10 10l.94 2.06.94-2.06 2.06-.94-2.06-.94-.94-2.06-.94 2.06-2.06.94z\"/><path d=\"M17.41 7.96l-1.37-1.37c-.4-.4-.92-.59-1.43-.59-.52 0-1.04.2-1.43.59L10.3 9.45l-7.72 7.72c-.78.78-.78 2.05 0 2.83L4 21.41c.39.39.9.59 1.41.59.51 0 1.02-.2 1.41-.59l7.78-7.78 2.81-2.81c.8-.78.8-2.07 0-2.86zM5.41 20L4 18.59l7.72-7.72 1.47 1.35L5.41 20z\"/>\n",
              "  </svg>\n",
              "      </button>\n",
              "      \n",
              "  <style>\n",
              "    .colab-df-container {\n",
              "      display:flex;\n",
              "      flex-wrap:wrap;\n",
              "      gap: 12px;\n",
              "    }\n",
              "\n",
              "    .colab-df-convert {\n",
              "      background-color: #E8F0FE;\n",
              "      border: none;\n",
              "      border-radius: 50%;\n",
              "      cursor: pointer;\n",
              "      display: none;\n",
              "      fill: #1967D2;\n",
              "      height: 32px;\n",
              "      padding: 0 0 0 0;\n",
              "      width: 32px;\n",
              "    }\n",
              "\n",
              "    .colab-df-convert:hover {\n",
              "      background-color: #E2EBFA;\n",
              "      box-shadow: 0px 1px 2px rgba(60, 64, 67, 0.3), 0px 1px 3px 1px rgba(60, 64, 67, 0.15);\n",
              "      fill: #174EA6;\n",
              "    }\n",
              "\n",
              "    [theme=dark] .colab-df-convert {\n",
              "      background-color: #3B4455;\n",
              "      fill: #D2E3FC;\n",
              "    }\n",
              "\n",
              "    [theme=dark] .colab-df-convert:hover {\n",
              "      background-color: #434B5C;\n",
              "      box-shadow: 0px 1px 3px 1px rgba(0, 0, 0, 0.15);\n",
              "      filter: drop-shadow(0px 1px 2px rgba(0, 0, 0, 0.3));\n",
              "      fill: #FFFFFF;\n",
              "    }\n",
              "  </style>\n",
              "\n",
              "      <script>\n",
              "        const buttonEl =\n",
              "          document.querySelector('#df-b0bed2c3-e166-4ad9-b3f0-c898b039b45d button.colab-df-convert');\n",
              "        buttonEl.style.display =\n",
              "          google.colab.kernel.accessAllowed ? 'block' : 'none';\n",
              "\n",
              "        async function convertToInteractive(key) {\n",
              "          const element = document.querySelector('#df-b0bed2c3-e166-4ad9-b3f0-c898b039b45d');\n",
              "          const dataTable =\n",
              "            await google.colab.kernel.invokeFunction('convertToInteractive',\n",
              "                                                     [key], {});\n",
              "          if (!dataTable) return;\n",
              "\n",
              "          const docLinkHtml = 'Like what you see? Visit the ' +\n",
              "            '<a target=\"_blank\" href=https://colab.research.google.com/notebooks/data_table.ipynb>data table notebook</a>'\n",
              "            + ' to learn more about interactive tables.';\n",
              "          element.innerHTML = '';\n",
              "          dataTable['output_type'] = 'display_data';\n",
              "          await google.colab.output.renderOutput(dataTable, element);\n",
              "          const docLink = document.createElement('div');\n",
              "          docLink.innerHTML = docLinkHtml;\n",
              "          element.appendChild(docLink);\n",
              "        }\n",
              "      </script>\n",
              "    </div>\n",
              "  </div>\n",
              "  "
            ]
          },
          "metadata": {},
          "execution_count": 9
        }
      ],
      "source": [
        "tweets.describe()"
      ],
      "id": "7171db96"
    },
    {
      "cell_type": "markdown",
      "metadata": {
        "id": "98bf7b45"
      },
      "source": [
        "#### 1.3 Checking null values:"
      ],
      "id": "98bf7b45"
    },
    {
      "cell_type": "code",
      "execution_count": 10,
      "metadata": {
        "colab": {
          "base_uri": "https://localhost:8080/"
        },
        "id": "0f00b17e",
        "outputId": "ad41d15b-261a-43e2-9c41-b77fa4a22447"
      },
      "outputs": [
        {
          "output_type": "execute_result",
          "data": {
            "text/plain": [
              "0"
            ]
          },
          "metadata": {},
          "execution_count": 10
        }
      ],
      "source": [
        "np.sum(tweets.isnull().any(axis=1))"
      ],
      "id": "0f00b17e"
    },
    {
      "cell_type": "markdown",
      "metadata": {
        "id": "d3e661c3"
      },
      "source": [
        "## **2. Data visualisation**"
      ],
      "id": "d3e661c3"
    },
    {
      "cell_type": "markdown",
      "metadata": {
        "id": "4e54ff21"
      },
      "source": [
        "#### 2.1 Replacing positive value 4 to 1"
      ],
      "id": "4e54ff21"
    },
    {
      "cell_type": "code",
      "execution_count": 11,
      "metadata": {
        "id": "1639f3da"
      },
      "outputs": [],
      "source": [
        "tweets['Polarity'] = tweets['Polarity'].replace(4,1)"
      ],
      "id": "1639f3da"
    },
    {
      "cell_type": "code",
      "execution_count": 12,
      "metadata": {
        "colab": {
          "base_uri": "https://localhost:8080/"
        },
        "id": "847d2a9f",
        "outputId": "9c634c92-64a1-4e06-d635-da923305d9ba"
      },
      "outputs": [
        {
          "output_type": "execute_result",
          "data": {
            "text/plain": [
              "array([0, 1])"
            ]
          },
          "metadata": {},
          "execution_count": 12
        }
      ],
      "source": [
        "tweets['Polarity'].unique()"
      ],
      "id": "847d2a9f"
    },
    {
      "cell_type": "code",
      "execution_count": 13,
      "metadata": {
        "id": "0131e019"
      },
      "outputs": [],
      "source": [
        "tweets_polarity = pd.DataFrame(tweets['Polarity'].value_counts()).reset_index()\n",
        "tweets_polarity.columns = ['Polarity', 'Amount']"
      ],
      "id": "0131e019"
    },
    {
      "cell_type": "code",
      "execution_count": 14,
      "metadata": {
        "colab": {
          "base_uri": "https://localhost:8080/",
          "height": 112
        },
        "id": "e7992d0e",
        "outputId": "5f6f013e-3cb4-4d2e-dcba-dc632358344f"
      },
      "outputs": [
        {
          "output_type": "execute_result",
          "data": {
            "text/plain": [
              "   Polarity  Amount\n",
              "0         0  800000\n",
              "1         1  800000"
            ],
            "text/html": [
              "\n",
              "  <div id=\"df-ec8c887b-c003-4e00-9c5b-64a3904f08d6\">\n",
              "    <div class=\"colab-df-container\">\n",
              "      <div>\n",
              "<style scoped>\n",
              "    .dataframe tbody tr th:only-of-type {\n",
              "        vertical-align: middle;\n",
              "    }\n",
              "\n",
              "    .dataframe tbody tr th {\n",
              "        vertical-align: top;\n",
              "    }\n",
              "\n",
              "    .dataframe thead th {\n",
              "        text-align: right;\n",
              "    }\n",
              "</style>\n",
              "<table border=\"1\" class=\"dataframe\">\n",
              "  <thead>\n",
              "    <tr style=\"text-align: right;\">\n",
              "      <th></th>\n",
              "      <th>Polarity</th>\n",
              "      <th>Amount</th>\n",
              "    </tr>\n",
              "  </thead>\n",
              "  <tbody>\n",
              "    <tr>\n",
              "      <th>0</th>\n",
              "      <td>0</td>\n",
              "      <td>800000</td>\n",
              "    </tr>\n",
              "    <tr>\n",
              "      <th>1</th>\n",
              "      <td>1</td>\n",
              "      <td>800000</td>\n",
              "    </tr>\n",
              "  </tbody>\n",
              "</table>\n",
              "</div>\n",
              "      <button class=\"colab-df-convert\" onclick=\"convertToInteractive('df-ec8c887b-c003-4e00-9c5b-64a3904f08d6')\"\n",
              "              title=\"Convert this dataframe to an interactive table.\"\n",
              "              style=\"display:none;\">\n",
              "        \n",
              "  <svg xmlns=\"http://www.w3.org/2000/svg\" height=\"24px\"viewBox=\"0 0 24 24\"\n",
              "       width=\"24px\">\n",
              "    <path d=\"M0 0h24v24H0V0z\" fill=\"none\"/>\n",
              "    <path d=\"M18.56 5.44l.94 2.06.94-2.06 2.06-.94-2.06-.94-.94-2.06-.94 2.06-2.06.94zm-11 1L8.5 8.5l.94-2.06 2.06-.94-2.06-.94L8.5 2.5l-.94 2.06-2.06.94zm10 10l.94 2.06.94-2.06 2.06-.94-2.06-.94-.94-2.06-.94 2.06-2.06.94z\"/><path d=\"M17.41 7.96l-1.37-1.37c-.4-.4-.92-.59-1.43-.59-.52 0-1.04.2-1.43.59L10.3 9.45l-7.72 7.72c-.78.78-.78 2.05 0 2.83L4 21.41c.39.39.9.59 1.41.59.51 0 1.02-.2 1.41-.59l7.78-7.78 2.81-2.81c.8-.78.8-2.07 0-2.86zM5.41 20L4 18.59l7.72-7.72 1.47 1.35L5.41 20z\"/>\n",
              "  </svg>\n",
              "      </button>\n",
              "      \n",
              "  <style>\n",
              "    .colab-df-container {\n",
              "      display:flex;\n",
              "      flex-wrap:wrap;\n",
              "      gap: 12px;\n",
              "    }\n",
              "\n",
              "    .colab-df-convert {\n",
              "      background-color: #E8F0FE;\n",
              "      border: none;\n",
              "      border-radius: 50%;\n",
              "      cursor: pointer;\n",
              "      display: none;\n",
              "      fill: #1967D2;\n",
              "      height: 32px;\n",
              "      padding: 0 0 0 0;\n",
              "      width: 32px;\n",
              "    }\n",
              "\n",
              "    .colab-df-convert:hover {\n",
              "      background-color: #E2EBFA;\n",
              "      box-shadow: 0px 1px 2px rgba(60, 64, 67, 0.3), 0px 1px 3px 1px rgba(60, 64, 67, 0.15);\n",
              "      fill: #174EA6;\n",
              "    }\n",
              "\n",
              "    [theme=dark] .colab-df-convert {\n",
              "      background-color: #3B4455;\n",
              "      fill: #D2E3FC;\n",
              "    }\n",
              "\n",
              "    [theme=dark] .colab-df-convert:hover {\n",
              "      background-color: #434B5C;\n",
              "      box-shadow: 0px 1px 3px 1px rgba(0, 0, 0, 0.15);\n",
              "      filter: drop-shadow(0px 1px 2px rgba(0, 0, 0, 0.3));\n",
              "      fill: #FFFFFF;\n",
              "    }\n",
              "  </style>\n",
              "\n",
              "      <script>\n",
              "        const buttonEl =\n",
              "          document.querySelector('#df-ec8c887b-c003-4e00-9c5b-64a3904f08d6 button.colab-df-convert');\n",
              "        buttonEl.style.display =\n",
              "          google.colab.kernel.accessAllowed ? 'block' : 'none';\n",
              "\n",
              "        async function convertToInteractive(key) {\n",
              "          const element = document.querySelector('#df-ec8c887b-c003-4e00-9c5b-64a3904f08d6');\n",
              "          const dataTable =\n",
              "            await google.colab.kernel.invokeFunction('convertToInteractive',\n",
              "                                                     [key], {});\n",
              "          if (!dataTable) return;\n",
              "\n",
              "          const docLinkHtml = 'Like what you see? Visit the ' +\n",
              "            '<a target=\"_blank\" href=https://colab.research.google.com/notebooks/data_table.ipynb>data table notebook</a>'\n",
              "            + ' to learn more about interactive tables.';\n",
              "          element.innerHTML = '';\n",
              "          dataTable['output_type'] = 'display_data';\n",
              "          await google.colab.output.renderOutput(dataTable, element);\n",
              "          const docLink = document.createElement('div');\n",
              "          docLink.innerHTML = docLinkHtml;\n",
              "          element.appendChild(docLink);\n",
              "        }\n",
              "      </script>\n",
              "    </div>\n",
              "  </div>\n",
              "  "
            ]
          },
          "metadata": {},
          "execution_count": 14
        }
      ],
      "source": [
        "tweets_polarity"
      ],
      "id": "e7992d0e"
    },
    {
      "cell_type": "code",
      "execution_count": 15,
      "metadata": {
        "id": "c8af9d0c"
      },
      "outputs": [],
      "source": [
        "tweets_polarity['Polarity'].replace(0, 'Negative', inplace=True)"
      ],
      "id": "c8af9d0c"
    },
    {
      "cell_type": "code",
      "execution_count": 16,
      "metadata": {
        "id": "892da30c"
      },
      "outputs": [],
      "source": [
        "tweets_polarity['Polarity'].replace(1, 'Positive', inplace=True)"
      ],
      "id": "892da30c"
    },
    {
      "cell_type": "code",
      "execution_count": 17,
      "metadata": {
        "colab": {
          "base_uri": "https://localhost:8080/",
          "height": 112
        },
        "id": "822fec7d",
        "outputId": "52aff5e3-b04e-429d-acdc-fe90163242f4"
      },
      "outputs": [
        {
          "output_type": "execute_result",
          "data": {
            "text/plain": [
              "   Polarity  Amount\n",
              "0  Negative  800000\n",
              "1  Positive  800000"
            ],
            "text/html": [
              "\n",
              "  <div id=\"df-962d9f55-4b24-4329-baf1-2b8daa509d69\">\n",
              "    <div class=\"colab-df-container\">\n",
              "      <div>\n",
              "<style scoped>\n",
              "    .dataframe tbody tr th:only-of-type {\n",
              "        vertical-align: middle;\n",
              "    }\n",
              "\n",
              "    .dataframe tbody tr th {\n",
              "        vertical-align: top;\n",
              "    }\n",
              "\n",
              "    .dataframe thead th {\n",
              "        text-align: right;\n",
              "    }\n",
              "</style>\n",
              "<table border=\"1\" class=\"dataframe\">\n",
              "  <thead>\n",
              "    <tr style=\"text-align: right;\">\n",
              "      <th></th>\n",
              "      <th>Polarity</th>\n",
              "      <th>Amount</th>\n",
              "    </tr>\n",
              "  </thead>\n",
              "  <tbody>\n",
              "    <tr>\n",
              "      <th>0</th>\n",
              "      <td>Negative</td>\n",
              "      <td>800000</td>\n",
              "    </tr>\n",
              "    <tr>\n",
              "      <th>1</th>\n",
              "      <td>Positive</td>\n",
              "      <td>800000</td>\n",
              "    </tr>\n",
              "  </tbody>\n",
              "</table>\n",
              "</div>\n",
              "      <button class=\"colab-df-convert\" onclick=\"convertToInteractive('df-962d9f55-4b24-4329-baf1-2b8daa509d69')\"\n",
              "              title=\"Convert this dataframe to an interactive table.\"\n",
              "              style=\"display:none;\">\n",
              "        \n",
              "  <svg xmlns=\"http://www.w3.org/2000/svg\" height=\"24px\"viewBox=\"0 0 24 24\"\n",
              "       width=\"24px\">\n",
              "    <path d=\"M0 0h24v24H0V0z\" fill=\"none\"/>\n",
              "    <path d=\"M18.56 5.44l.94 2.06.94-2.06 2.06-.94-2.06-.94-.94-2.06-.94 2.06-2.06.94zm-11 1L8.5 8.5l.94-2.06 2.06-.94-2.06-.94L8.5 2.5l-.94 2.06-2.06.94zm10 10l.94 2.06.94-2.06 2.06-.94-2.06-.94-.94-2.06-.94 2.06-2.06.94z\"/><path d=\"M17.41 7.96l-1.37-1.37c-.4-.4-.92-.59-1.43-.59-.52 0-1.04.2-1.43.59L10.3 9.45l-7.72 7.72c-.78.78-.78 2.05 0 2.83L4 21.41c.39.39.9.59 1.41.59.51 0 1.02-.2 1.41-.59l7.78-7.78 2.81-2.81c.8-.78.8-2.07 0-2.86zM5.41 20L4 18.59l7.72-7.72 1.47 1.35L5.41 20z\"/>\n",
              "  </svg>\n",
              "      </button>\n",
              "      \n",
              "  <style>\n",
              "    .colab-df-container {\n",
              "      display:flex;\n",
              "      flex-wrap:wrap;\n",
              "      gap: 12px;\n",
              "    }\n",
              "\n",
              "    .colab-df-convert {\n",
              "      background-color: #E8F0FE;\n",
              "      border: none;\n",
              "      border-radius: 50%;\n",
              "      cursor: pointer;\n",
              "      display: none;\n",
              "      fill: #1967D2;\n",
              "      height: 32px;\n",
              "      padding: 0 0 0 0;\n",
              "      width: 32px;\n",
              "    }\n",
              "\n",
              "    .colab-df-convert:hover {\n",
              "      background-color: #E2EBFA;\n",
              "      box-shadow: 0px 1px 2px rgba(60, 64, 67, 0.3), 0px 1px 3px 1px rgba(60, 64, 67, 0.15);\n",
              "      fill: #174EA6;\n",
              "    }\n",
              "\n",
              "    [theme=dark] .colab-df-convert {\n",
              "      background-color: #3B4455;\n",
              "      fill: #D2E3FC;\n",
              "    }\n",
              "\n",
              "    [theme=dark] .colab-df-convert:hover {\n",
              "      background-color: #434B5C;\n",
              "      box-shadow: 0px 1px 3px 1px rgba(0, 0, 0, 0.15);\n",
              "      filter: drop-shadow(0px 1px 2px rgba(0, 0, 0, 0.3));\n",
              "      fill: #FFFFFF;\n",
              "    }\n",
              "  </style>\n",
              "\n",
              "      <script>\n",
              "        const buttonEl =\n",
              "          document.querySelector('#df-962d9f55-4b24-4329-baf1-2b8daa509d69 button.colab-df-convert');\n",
              "        buttonEl.style.display =\n",
              "          google.colab.kernel.accessAllowed ? 'block' : 'none';\n",
              "\n",
              "        async function convertToInteractive(key) {\n",
              "          const element = document.querySelector('#df-962d9f55-4b24-4329-baf1-2b8daa509d69');\n",
              "          const dataTable =\n",
              "            await google.colab.kernel.invokeFunction('convertToInteractive',\n",
              "                                                     [key], {});\n",
              "          if (!dataTable) return;\n",
              "\n",
              "          const docLinkHtml = 'Like what you see? Visit the ' +\n",
              "            '<a target=\"_blank\" href=https://colab.research.google.com/notebooks/data_table.ipynb>data table notebook</a>'\n",
              "            + ' to learn more about interactive tables.';\n",
              "          element.innerHTML = '';\n",
              "          dataTable['output_type'] = 'display_data';\n",
              "          await google.colab.output.renderOutput(dataTable, element);\n",
              "          const docLink = document.createElement('div');\n",
              "          docLink.innerHTML = docLinkHtml;\n",
              "          element.appendChild(docLink);\n",
              "        }\n",
              "      </script>\n",
              "    </div>\n",
              "  </div>\n",
              "  "
            ]
          },
          "metadata": {},
          "execution_count": 17
        }
      ],
      "source": [
        "tweets_polarity"
      ],
      "id": "822fec7d"
    },
    {
      "cell_type": "markdown",
      "metadata": {
        "id": "1acb5433"
      },
      "source": [
        "#### 2.2 Chart"
      ],
      "id": "1acb5433"
    },
    {
      "cell_type": "code",
      "execution_count": 18,
      "metadata": {
        "colab": {
          "base_uri": "https://localhost:8080/",
          "height": 387
        },
        "id": "951b6738",
        "outputId": "999eb66b-6bf6-49e0-e474-086636a685fe"
      },
      "outputs": [
        {
          "output_type": "display_data",
          "data": {
            "text/plain": [
              "<Figure size 600x400 with 1 Axes>"
            ],
            "image/png": "[encoded data removed]"
          },
          "metadata": {}
        }
      ],
      "source": [
        "plt.style.use('bmh')\n",
        "fig, ax=plt.subplots(figsize=(6,4))\n",
        "ax.bar(tweets_polarity['Polarity'], tweets_polarity['Amount'], color='#1271ed')\n",
        "\n",
        "ax.get_yaxis().set_major_formatter(\n",
        "matplotlib.ticker.FuncFormatter(lambda x, p: format(int(x)//1, ',')))\n",
        "ax.set_title('Tweets polarity')\n",
        "\n",
        "for i in range(0, len(tweets_polarity)):\n",
        "  ax.text(tweets_polarity['Polarity'][i], tweets_polarity['Amount'][i]-65000, tweets_polarity['Amount'][i],\n",
        "          horizontalalignment='center', color='w')"
      ],
      "id": "951b6738"
    },
    {
      "cell_type": "markdown",
      "metadata": {
        "id": "03f6ef12"
      },
      "source": [
        "## **3. Data preprocessing**"
      ],
      "id": "03f6ef12"
    },
    {
      "cell_type": "markdown",
      "metadata": {
        "id": "24a7e3cd"
      },
      "source": [
        "#### **3.1 Selected columns**"
      ],
      "id": "24a7e3cd"
    },
    {
      "cell_type": "code",
      "execution_count": 19,
      "metadata": {
        "id": "31f2e784"
      },
      "outputs": [],
      "source": [
        "tweets_data = tweets[['Polarity', 'Text']]"
      ],
      "id": "31f2e784"
    },
    {
      "cell_type": "code",
      "execution_count": 20,
      "metadata": {
        "colab": {
          "base_uri": "https://localhost:8080/",
          "height": 363
        },
        "id": "30f4102e",
        "outputId": "db0a6f13-70bc-4f36-d125-926d7ef0e6b0"
      },
      "outputs": [
        {
          "output_type": "execute_result",
          "data": {
            "text/plain": [
              "   Polarity                                               Text\n",
              "0         0  @switchfoot http://twitpic.com/2y1zl - Awww, t...\n",
              "1         0  is upset that he can't update his Facebook by ...\n",
              "2         0  @Kenichan I dived many times for the ball. Man...\n",
              "3         0    my whole body feels itchy and like its on fire \n",
              "4         0  @nationwideclass no, it's not behaving at all....\n",
              "5         0                      @Kwesidei not the whole crew \n",
              "6         0                                        Need a hug \n",
              "7         0  @LOLTrish hey  long time no see! Yes.. Rains a...\n",
              "8         0               @Tatiana_K nope they didn't have it \n",
              "9         0                          @twittera que me muera ? "
            ],
            "text/html": [
              "\n",
              "  <div id=\"df-0cecbb29-88b5-42de-a5ef-7184ed58e63d\">\n",
              "    <div class=\"colab-df-container\">\n",
              "      <div>\n",
              "<style scoped>\n",
              "    .dataframe tbody tr th:only-of-type {\n",
              "        vertical-align: middle;\n",
              "    }\n",
              "\n",
              "    .dataframe tbody tr th {\n",
              "        vertical-align: top;\n",
              "    }\n",
              "\n",
              "    .dataframe thead th {\n",
              "        text-align: right;\n",
              "    }\n",
              "</style>\n",
              "<table border=\"1\" class=\"dataframe\">\n",
              "  <thead>\n",
              "    <tr style=\"text-align: right;\">\n",
              "      <th></th>\n",
              "      <th>Polarity</th>\n",
              "      <th>Text</th>\n",
              "    </tr>\n",
              "  </thead>\n",
              "  <tbody>\n",
              "    <tr>\n",
              "      <th>0</th>\n",
              "      <td>0</td>\n",
              "      <td>@switchfoot http://twitpic.com/2y1zl - Awww, t...</td>\n",
              "    </tr>\n",
              "    <tr>\n",
              "      <th>1</th>\n",
              "      <td>0</td>\n",
              "      <td>is upset that he can't update his Facebook by ...</td>\n",
              "    </tr>\n",
              "    <tr>\n",
              "      <th>2</th>\n",
              "      <td>0</td>\n",
              "      <td>@Kenichan I dived many times for the ball. Man...</td>\n",
              "    </tr>\n",
              "    <tr>\n",
              "      <th>3</th>\n",
              "      <td>0</td>\n",
              "      <td>my whole body feels itchy and like its on fire</td>\n",
              "    </tr>\n",
              "    <tr>\n",
              "      <th>4</th>\n",
              "      <td>0</td>\n",
              "      <td>@nationwideclass no, it's not behaving at all....</td>\n",
              "    </tr>\n",
              "    <tr>\n",
              "      <th>5</th>\n",
              "      <td>0</td>\n",
              "      <td>@Kwesidei not the whole crew</td>\n",
              "    </tr>\n",
              "    <tr>\n",
              "      <th>6</th>\n",
              "      <td>0</td>\n",
              "      <td>Need a hug</td>\n",
              "    </tr>\n",
              "    <tr>\n",
              "      <th>7</th>\n",
              "      <td>0</td>\n",
              "      <td>@LOLTrish hey  long time no see! Yes.. Rains a...</td>\n",
              "    </tr>\n",
              "    <tr>\n",
              "      <th>8</th>\n",
              "      <td>0</td>\n",
              "      <td>@Tatiana_K nope they didn't have it</td>\n",
              "    </tr>\n",
              "    <tr>\n",
              "      <th>9</th>\n",
              "      <td>0</td>\n",
              "      <td>@twittera que me muera ?</td>\n",
              "    </tr>\n",
              "  </tbody>\n",
              "</table>\n",
              "</div>\n",
              "      <button class=\"colab-df-convert\" onclick=\"convertToInteractive('df-0cecbb29-88b5-42de-a5ef-7184ed58e63d')\"\n",
              "              title=\"Convert this dataframe to an interactive table.\"\n",
              "              style=\"display:none;\">\n",
              "        \n",
              "  <svg xmlns=\"http://www.w3.org/2000/svg\" height=\"24px\"viewBox=\"0 0 24 24\"\n",
              "       width=\"24px\">\n",
              "    <path d=\"M0 0h24v24H0V0z\" fill=\"none\"/>\n",
              "    <path d=\"M18.56 5.44l.94 2.06.94-2.06 2.06-.94-2.06-.94-.94-2.06-.94 2.06-2.06.94zm-11 1L8.5 8.5l.94-2.06 2.06-.94-2.06-.94L8.5 2.5l-.94 2.06-2.06.94zm10 10l.94 2.06.94-2.06 2.06-.94-2.06-.94-.94-2.06-.94 2.06-2.06.94z\"/><path d=\"M17.41 7.96l-1.37-1.37c-.4-.4-.92-.59-1.43-.59-.52 0-1.04.2-1.43.59L10.3 9.45l-7.72 7.72c-.78.78-.78 2.05 0 2.83L4 21.41c.39.39.9.59 1.41.59.51 0 1.02-.2 1.41-.59l7.78-7.78 2.81-2.81c.8-.78.8-2.07 0-2.86zM5.41 20L4 18.59l7.72-7.72 1.47 1.35L5.41 20z\"/>\n",
              "  </svg>\n",
              "      </button>\n",
              "      \n",
              "  <style>\n",
              "    .colab-df-container {\n",
              "      display:flex;\n",
              "      flex-wrap:wrap;\n",
              "      gap: 12px;\n",
              "    }\n",
              "\n",
              "    .colab-df-convert {\n",
              "      background-color: #E8F0FE;\n",
              "      border: none;\n",
              "      border-radius: 50%;\n",
              "      cursor: pointer;\n",
              "      display: none;\n",
              "      fill: #1967D2;\n",
              "      height: 32px;\n",
              "      padding: 0 0 0 0;\n",
              "      width: 32px;\n",
              "    }\n",
              "\n",
              "    .colab-df-convert:hover {\n",
              "      background-color: #E2EBFA;\n",
              "      box-shadow: 0px 1px 2px rgba(60, 64, 67, 0.3), 0px 1px 3px 1px rgba(60, 64, 67, 0.15);\n",
              "      fill: #174EA6;\n",
              "    }\n",
              "\n",
              "    [theme=dark] .colab-df-convert {\n",
              "      background-color: #3B4455;\n",
              "      fill: #D2E3FC;\n",
              "    }\n",
              "\n",
              "    [theme=dark] .colab-df-convert:hover {\n",
              "      background-color: #434B5C;\n",
              "      box-shadow: 0px 1px 3px 1px rgba(0, 0, 0, 0.15);\n",
              "      filter: drop-shadow(0px 1px 2px rgba(0, 0, 0, 0.3));\n",
              "      fill: #FFFFFF;\n",
              "    }\n",
              "  </style>\n",
              "\n",
              "      <script>\n",
              "        const buttonEl =\n",
              "          document.querySelector('#df-0cecbb29-88b5-42de-a5ef-7184ed58e63d button.colab-df-convert');\n",
              "        buttonEl.style.display =\n",
              "          google.colab.kernel.accessAllowed ? 'block' : 'none';\n",
              "\n",
              "        async function convertToInteractive(key) {\n",
              "          const element = document.querySelector('#df-0cecbb29-88b5-42de-a5ef-7184ed58e63d');\n",
              "          const dataTable =\n",
              "            await google.colab.kernel.invokeFunction('convertToInteractive',\n",
              "                                                     [key], {});\n",
              "          if (!dataTable) return;\n",
              "\n",
              "          const docLinkHtml = 'Like what you see? Visit the ' +\n",
              "            '<a target=\"_blank\" href=https://colab.research.google.com/notebooks/data_table.ipynb>data table notebook</a>'\n",
              "            + ' to learn more about interactive tables.';\n",
              "          element.innerHTML = '';\n",
              "          dataTable['output_type'] = 'display_data';\n",
              "          await google.colab.output.renderOutput(dataTable, element);\n",
              "          const docLink = document.createElement('div');\n",
              "          docLink.innerHTML = docLinkHtml;\n",
              "          element.appendChild(docLink);\n",
              "        }\n",
              "      </script>\n",
              "    </div>\n",
              "  </div>\n",
              "  "
            ]
          },
          "metadata": {},
          "execution_count": 20
        }
      ],
      "source": [
        "tweets_data.head(10)"
      ],
      "id": "30f4102e"
    },
    {
      "cell_type": "markdown",
      "metadata": {
        "id": "cdb8d116"
      },
      "source": [
        "#### 3.2 Making tweets text to lowercase"
      ],
      "id": "cdb8d116"
    },
    {
      "cell_type": "code",
      "execution_count": 21,
      "metadata": {
        "colab": {
          "base_uri": "https://localhost:8080/"
        },
        "id": "da646a65",
        "outputId": "c99c0c27-4faf-4b7d-c9c6-e4543c487131"
      },
      "outputs": [
        {
          "output_type": "stream",
          "name": "stderr",
          "text": [
            "<ipython-input-21-d870b1e4c535>:1: SettingWithCopyWarning: \n",
            "A value is trying to be set on a copy of a slice from a DataFrame.\n",
            "Try using .loc[row_indexer,col_indexer] = value instead\n",
            "\n",
            "See the caveats in the documentation: https://pandas.pydata.org/pandas-docs/stable/user_guide/indexing.html#returning-a-view-versus-a-copy\n",
            "  tweets_data['Text'] = tweets_data['Text'].str.lower()\n"
          ]
        }
      ],
      "source": [
        "tweets_data['Text'] = tweets_data['Text'].str.lower()"
      ],
      "id": "da646a65"
    },
    {
      "cell_type": "code",
      "execution_count": 22,
      "metadata": {
        "colab": {
          "base_uri": "https://localhost:8080/",
          "height": 363
        },
        "id": "09abe9aa",
        "outputId": "90b21b73-ceca-4c62-b11e-e9a864c415a9"
      },
      "outputs": [
        {
          "output_type": "execute_result",
          "data": {
            "text/plain": [
              "   Polarity                                               Text\n",
              "0         0  @switchfoot http://twitpic.com/2y1zl - awww, t...\n",
              "1         0  is upset that he can't update his facebook by ...\n",
              "2         0  @kenichan i dived many times for the ball. man...\n",
              "3         0    my whole body feels itchy and like its on fire \n",
              "4         0  @nationwideclass no, it's not behaving at all....\n",
              "5         0                      @kwesidei not the whole crew \n",
              "6         0                                        need a hug \n",
              "7         0  @loltrish hey  long time no see! yes.. rains a...\n",
              "8         0               @tatiana_k nope they didn't have it \n",
              "9         0                          @twittera que me muera ? "
            ],
            "text/html": [
              "\n",
              "  <div id=\"df-f05f9d52-95d4-4d46-925e-63880010fcdb\">\n",
              "    <div class=\"colab-df-container\">\n",
              "      <div>\n",
              "<style scoped>\n",
              "    .dataframe tbody tr th:only-of-type {\n",
              "        vertical-align: middle;\n",
              "    }\n",
              "\n",
              "    .dataframe tbody tr th {\n",
              "        vertical-align: top;\n",
              "    }\n",
              "\n",
              "    .dataframe thead th {\n",
              "        text-align: right;\n",
              "    }\n",
              "</style>\n",
              "<table border=\"1\" class=\"dataframe\">\n",
              "  <thead>\n",
              "    <tr style=\"text-align: right;\">\n",
              "      <th></th>\n",
              "      <th>Polarity</th>\n",
              "      <th>Text</th>\n",
              "    </tr>\n",
              "  </thead>\n",
              "  <tbody>\n",
              "    <tr>\n",
              "      <th>0</th>\n",
              "      <td>0</td>\n",
              "      <td>@switchfoot http://twitpic.com/2y1zl - awww, t...</td>\n",
              "    </tr>\n",
              "    <tr>\n",
              "      <th>1</th>\n",
              "      <td>0</td>\n",
              "      <td>is upset that he can't update his facebook by ...</td>\n",
              "    </tr>\n",
              "    <tr>\n",
              "      <th>2</th>\n",
              "      <td>0</td>\n",
              "      <td>@kenichan i dived many times for the ball. man...</td>\n",
              "    </tr>\n",
              "    <tr>\n",
              "      <th>3</th>\n",
              "      <td>0</td>\n",
              "      <td>my whole body feels itchy and like its on fire</td>\n",
              "    </tr>\n",
              "    <tr>\n",
              "      <th>4</th>\n",
              "      <td>0</td>\n",
              "      <td>@nationwideclass no, it's not behaving at all....</td>\n",
              "    </tr>\n",
              "    <tr>\n",
              "      <th>5</th>\n",
              "      <td>0</td>\n",
              "      <td>@kwesidei not the whole crew</td>\n",
              "    </tr>\n",
              "    <tr>\n",
              "      <th>6</th>\n",
              "      <td>0</td>\n",
              "      <td>need a hug</td>\n",
              "    </tr>\n",
              "    <tr>\n",
              "      <th>7</th>\n",
              "      <td>0</td>\n",
              "      <td>@loltrish hey  long time no see! yes.. rains a...</td>\n",
              "    </tr>\n",
              "    <tr>\n",
              "      <th>8</th>\n",
              "      <td>0</td>\n",
              "      <td>@tatiana_k nope they didn't have it</td>\n",
              "    </tr>\n",
              "    <tr>\n",
              "      <th>9</th>\n",
              "      <td>0</td>\n",
              "      <td>@twittera que me muera ?</td>\n",
              "    </tr>\n",
              "  </tbody>\n",
              "</table>\n",
              "</div>\n",
              "      <button class=\"colab-df-convert\" onclick=\"convertToInteractive('df-f05f9d52-95d4-4d46-925e-63880010fcdb')\"\n",
              "              title=\"Convert this dataframe to an interactive table.\"\n",
              "              style=\"display:none;\">\n",
              "        \n",
              "  <svg xmlns=\"http://www.w3.org/2000/svg\" height=\"24px\"viewBox=\"0 0 24 24\"\n",
              "       width=\"24px\">\n",
              "    <path d=\"M0 0h24v24H0V0z\" fill=\"none\"/>\n",
              "    <path d=\"M18.56 5.44l.94 2.06.94-2.06 2.06-.94-2.06-.94-.94-2.06-.94 2.06-2.06.94zm-11 1L8.5 8.5l.94-2.06 2.06-.94-2.06-.94L8.5 2.5l-.94 2.06-2.06.94zm10 10l.94 2.06.94-2.06 2.06-.94-2.06-.94-.94-2.06-.94 2.06-2.06.94z\"/><path d=\"M17.41 7.96l-1.37-1.37c-.4-.4-.92-.59-1.43-.59-.52 0-1.04.2-1.43.59L10.3 9.45l-7.72 7.72c-.78.78-.78 2.05 0 2.83L4 21.41c.39.39.9.59 1.41.59.51 0 1.02-.2 1.41-.59l7.78-7.78 2.81-2.81c.8-.78.8-2.07 0-2.86zM5.41 20L4 18.59l7.72-7.72 1.47 1.35L5.41 20z\"/>\n",
              "  </svg>\n",
              "      </button>\n",
              "      \n",
              "  <style>\n",
              "    .colab-df-container {\n",
              "      display:flex;\n",
              "      flex-wrap:wrap;\n",
              "      gap: 12px;\n",
              "    }\n",
              "\n",
              "    .colab-df-convert {\n",
              "      background-color: #E8F0FE;\n",
              "      border: none;\n",
              "      border-radius: 50%;\n",
              "      cursor: pointer;\n",
              "      display: none;\n",
              "      fill: #1967D2;\n",
              "      height: 32px;\n",
              "      padding: 0 0 0 0;\n",
              "      width: 32px;\n",
              "    }\n",
              "\n",
              "    .colab-df-convert:hover {\n",
              "      background-color: #E2EBFA;\n",
              "      box-shadow: 0px 1px 2px rgba(60, 64, 67, 0.3), 0px 1px 3px 1px rgba(60, 64, 67, 0.15);\n",
              "      fill: #174EA6;\n",
              "    }\n",
              "\n",
              "    [theme=dark] .colab-df-convert {\n",
              "      background-color: #3B4455;\n",
              "      fill: #D2E3FC;\n",
              "    }\n",
              "\n",
              "    [theme=dark] .colab-df-convert:hover {\n",
              "      background-color: #434B5C;\n",
              "      box-shadow: 0px 1px 3px 1px rgba(0, 0, 0, 0.15);\n",
              "      filter: drop-shadow(0px 1px 2px rgba(0, 0, 0, 0.3));\n",
              "      fill: #FFFFFF;\n",
              "    }\n",
              "  </style>\n",
              "\n",
              "      <script>\n",
              "        const buttonEl =\n",
              "          document.querySelector('#df-f05f9d52-95d4-4d46-925e-63880010fcdb button.colab-df-convert');\n",
              "        buttonEl.style.display =\n",
              "          google.colab.kernel.accessAllowed ? 'block' : 'none';\n",
              "\n",
              "        async function convertToInteractive(key) {\n",
              "          const element = document.querySelector('#df-f05f9d52-95d4-4d46-925e-63880010fcdb');\n",
              "          const dataTable =\n",
              "            await google.colab.kernel.invokeFunction('convertToInteractive',\n",
              "                                                     [key], {});\n",
              "          if (!dataTable) return;\n",
              "\n",
              "          const docLinkHtml = 'Like what you see? Visit the ' +\n",
              "            '<a target=\"_blank\" href=https://colab.research.google.com/notebooks/data_table.ipynb>data table notebook</a>'\n",
              "            + ' to learn more about interactive tables.';\n",
              "          element.innerHTML = '';\n",
              "          dataTable['output_type'] = 'display_data';\n",
              "          await google.colab.output.renderOutput(dataTable, element);\n",
              "          const docLink = document.createElement('div');\n",
              "          docLink.innerHTML = docLinkHtml;\n",
              "          element.appendChild(docLink);\n",
              "        }\n",
              "      </script>\n",
              "    </div>\n",
              "  </div>\n",
              "  "
            ]
          },
          "metadata": {},
          "execution_count": 22
        }
      ],
      "source": [
        "tweets_data.head(10)"
      ],
      "id": "09abe9aa"
    },
    {
      "cell_type": "markdown",
      "metadata": {
        "id": "01dedf61"
      },
      "source": [
        "#### 3.3 Removing punctuations"
      ],
      "id": "01dedf61"
    },
    {
      "cell_type": "code",
      "execution_count": 23,
      "metadata": {
        "id": "3f4cfba1"
      },
      "outputs": [],
      "source": [
        "punctuation_list = string.punctuation"
      ],
      "id": "3f4cfba1"
    },
    {
      "cell_type": "code",
      "execution_count": 24,
      "metadata": {
        "id": "aa5a0e5b"
      },
      "outputs": [],
      "source": [
        "def remove_punctuation(text):\n",
        "    return text.translate(str.maketrans('', '', punctuation_list))  "
      ],
      "id": "aa5a0e5b"
    },
    {
      "cell_type": "code",
      "execution_count": 25,
      "metadata": {
        "colab": {
          "base_uri": "https://localhost:8080/"
        },
        "id": "71e73d09",
        "outputId": "31c5b60c-05be-4f11-b509-4189707ad3d0",
        "scrolled": true
      },
      "outputs": [
        {
          "output_type": "stream",
          "name": "stderr",
          "text": [
            "<ipython-input-25-bde98e0cf2ff>:1: SettingWithCopyWarning: \n",
            "A value is trying to be set on a copy of a slice from a DataFrame.\n",
            "Try using .loc[row_indexer,col_indexer] = value instead\n",
            "\n",
            "See the caveats in the documentation: https://pandas.pydata.org/pandas-docs/stable/user_guide/indexing.html#returning-a-view-versus-a-copy\n",
            "  tweets_data['Text'] = tweets_data['Text'].apply(lambda x: remove_punctuation(x))\n"
          ]
        }
      ],
      "source": [
        "tweets_data['Text'] = tweets_data['Text'].apply(lambda x: remove_punctuation(x))"
      ],
      "id": "71e73d09"
    },
    {
      "cell_type": "markdown",
      "metadata": {
        "id": "3b50c6ff"
      },
      "source": [
        "#### 3.4 Removing stopwords"
      ],
      "id": "3b50c6ff"
    },
    {
      "cell_type": "code",
      "execution_count": 26,
      "metadata": {
        "id": "c355a523"
      },
      "outputs": [],
      "source": [
        "stopwords = ['a', 'about', 'above', 'after', 'again', 'ain', 'all', 'am', 'an',\n",
        "             'and','any','are', 'as', 'at', 'be', 'because', 'been', 'before',\n",
        "             'being', 'below', 'between','both', 'by', 'can', 'd', 'did', 'do',\n",
        "             'does', 'doing', 'down', 'during', 'each','few', 'for', 'from',\n",
        "             'further', 'had', 'has', 'have', 'having', 'he', 'her', 'here',\n",
        "             'hers', 'herself', 'him', 'himself', 'his', 'how', 'i', 'if', 'in',\n",
        "             'into','is', 'it', 'its', 'itself', 'just', 'll', 'm', 'ma',\n",
        "             'me', 'more', 'most','my', 'myself', 'now', 'o', 'of', 'on', 'once',\n",
        "             'only', 'or', 'other', 'our', 'ours','ourselves', 'out', 'own', 're','s', \n",
        "             'same', 'she', \"shes\", 'should', \"shouldve\",'so', 'some', 'such',\n",
        "             't', 'than', 'that', \"thatll\", 'the', 'their', 'theirs', 'them',\n",
        "             'themselves', 'then', 'there', 'these', 'they', 'this', 'those',\n",
        "             'through', 'to', 'too','under', 'until', 'up', 've', 'very', 'was',\n",
        "             'we', 'were', 'what', 'when', 'where','which','while', 'who', 'whom',\n",
        "             'why', 'will', 'with', 'won', 'y', 'you', \"youd\",\"youll\", \"youre\",\n",
        "             \"youve\", 'your', 'yours', 'yourself', 'yourselves']"
      ],
      "id": "c355a523"
    },
    {
      "cell_type": "code",
      "execution_count": 27,
      "metadata": {
        "id": "48aebd86"
      },
      "outputs": [],
      "source": [
        "def delete_stopwords(txt):\n",
        "    text = txt.split(\" \")\n",
        "    formated_text = [word for word in text if word not in stopwords]\n",
        "    return \" \".join(formated_text)"
      ],
      "id": "48aebd86"
    },
    {
      "cell_type": "code",
      "execution_count": 28,
      "metadata": {
        "colab": {
          "base_uri": "https://localhost:8080/"
        },
        "id": "39663e39",
        "outputId": "c3f3ef3e-70d4-4e53-c32c-2b1c9424db8c"
      },
      "outputs": [
        {
          "output_type": "stream",
          "name": "stderr",
          "text": [
            "<ipython-input-28-baabe6ef86bb>:1: SettingWithCopyWarning: \n",
            "A value is trying to be set on a copy of a slice from a DataFrame.\n",
            "Try using .loc[row_indexer,col_indexer] = value instead\n",
            "\n",
            "See the caveats in the documentation: https://pandas.pydata.org/pandas-docs/stable/user_guide/indexing.html#returning-a-view-versus-a-copy\n",
            "  tweets_data['Text'] = tweets_data['Text'].apply(lambda x: delete_stopwords(x))\n"
          ]
        }
      ],
      "source": [
        "tweets_data['Text'] = tweets_data['Text'].apply(lambda x: delete_stopwords(x))"
      ],
      "id": "39663e39"
    },
    {
      "cell_type": "markdown",
      "metadata": {
        "id": "d3f3f0cc"
      },
      "source": [
        "#### 3.5 Removing numbers"
      ],
      "id": "d3f3f0cc"
    },
    {
      "cell_type": "code",
      "execution_count": 29,
      "metadata": {
        "id": "b7c666ef"
      },
      "outputs": [],
      "source": [
        "def remove_number(text):\n",
        "    return re.sub('[0-9]+', '', text)"
      ],
      "id": "b7c666ef"
    },
    {
      "cell_type": "code",
      "execution_count": 30,
      "metadata": {
        "colab": {
          "base_uri": "https://localhost:8080/"
        },
        "id": "dba9006a",
        "outputId": "468fe63e-3021-4700-d7ac-508ab7f098b4"
      },
      "outputs": [
        {
          "output_type": "stream",
          "name": "stderr",
          "text": [
            "<ipython-input-30-fa69f787bda1>:1: SettingWithCopyWarning: \n",
            "A value is trying to be set on a copy of a slice from a DataFrame.\n",
            "Try using .loc[row_indexer,col_indexer] = value instead\n",
            "\n",
            "See the caveats in the documentation: https://pandas.pydata.org/pandas-docs/stable/user_guide/indexing.html#returning-a-view-versus-a-copy\n",
            "  tweets_data['Text'] = tweets_data['Text'].apply(lambda x: remove_number(x))\n"
          ]
        }
      ],
      "source": [
        "tweets_data['Text'] = tweets_data['Text'].apply(lambda x: remove_number(x))"
      ],
      "id": "dba9006a"
    },
    {
      "cell_type": "markdown",
      "metadata": {
        "id": "3TvpuRprcF0M"
      },
      "source": [
        "Dask library is used in 3.6, 3.7 and 3.8 because of database is almost 230MB and participation makes colab work much faster."
      ],
      "id": "3TvpuRprcF0M"
    },
    {
      "cell_type": "markdown",
      "metadata": {
        "id": "5f8da09e"
      },
      "source": [
        "#### 3.6 Tweets tokenization"
      ],
      "id": "5f8da09e"
    },
    {
      "cell_type": "code",
      "execution_count": 31,
      "metadata": {
        "colab": {
          "base_uri": "https://localhost:8080/"
        },
        "id": "VTVSfXUmg1Ut",
        "outputId": "0f4dc83b-ac86-4265-f98c-524cf39ff307"
      },
      "outputs": [
        {
          "output_type": "stream",
          "name": "stderr",
          "text": [
            "[nltk_data] Downloading package punkt to /root/nltk_data...\n",
            "[nltk_data]   Unzipping tokenizers/punkt.zip.\n"
          ]
        },
        {
          "output_type": "execute_result",
          "data": {
            "text/plain": [
              "True"
            ]
          },
          "metadata": {},
          "execution_count": 31
        }
      ],
      "source": [
        "nltk.download('punkt')"
      ],
      "id": "VTVSfXUmg1Ut"
    },
    {
      "cell_type": "code",
      "execution_count": 32,
      "metadata": {
        "colab": {
          "base_uri": "https://localhost:8080/"
        },
        "id": "05d13502",
        "outputId": "63e481bb-d598-48fe-a0bc-86457f58ef85"
      },
      "outputs": [
        {
          "output_type": "stream",
          "name": "stderr",
          "text": [
            "/usr/local/lib/python3.10/dist-packages/dask/dataframe/core.py:4134: UserWarning: \n",
            "You did not provide metadata, so Dask is running your function on a small dataset to guess output types. It is possible that Dask will guess incorrectly.\n",
            "To provide an explicit output types or to silence this message, please provide the `meta=` keyword, as described in the map or apply function that you are using.\n",
            "  Before: .apply(func)\n",
            "  After:  .apply(func, meta=('Text', 'object'))\n",
            "\n",
            "  warnings.warn(meta_warning(meta))\n"
          ]
        }
      ],
      "source": [
        "tweets_data_dask = dd.from_pandas(tweets_data, npartitions=5)\n",
        "tweets_data_dask['Text'] = tweets_data_dask['Text'].apply(lambda x: word_tokenize(x, language='english'))"
      ],
      "id": "05d13502"
    },
    {
      "cell_type": "code",
      "execution_count": 33,
      "metadata": {
        "id": "ythzTwJgkq6G"
      },
      "outputs": [],
      "source": [
        "tweets_data_tokenized = tweets_data_dask.compute()"
      ],
      "id": "ythzTwJgkq6G"
    },
    {
      "cell_type": "code",
      "execution_count": 34,
      "metadata": {
        "colab": {
          "base_uri": "https://localhost:8080/",
          "height": 363
        },
        "id": "1bTY01Ewkuud",
        "outputId": "859f6a23-7427-4d29-a078-3e173e100887"
      },
      "outputs": [
        {
          "output_type": "execute_result",
          "data": {
            "text/plain": [
              "   Polarity                                               Text\n",
              "0         0  [switchfoot, httptwitpiccomyzl, awww, thats, b...\n",
              "1         0  [upset, cant, update, facebook, texting, might...\n",
              "2         0  [kenichan, dived, many, times, ball, managed, ...\n",
              "3         0            [whole, body, feels, itchy, like, fire]\n",
              "4         0  [nationwideclass, no, not, behaving, im, mad, ...\n",
              "5         0                       [kwesidei, not, whole, crew]\n",
              "6         0                                        [need, hug]\n",
              "7         0  [loltrish, hey, long, time, no, see, yes, rain...\n",
              "8         0                            [tatianak, nope, didnt]\n",
              "9         0                             [twittera, que, muera]"
            ],
            "text/html": [
              "\n",
              "  <div id=\"df-50dbe118-370f-4a96-a713-8bd309bc785e\">\n",
              "    <div class=\"colab-df-container\">\n",
              "      <div>\n",
              "<style scoped>\n",
              "    .dataframe tbody tr th:only-of-type {\n",
              "        vertical-align: middle;\n",
              "    }\n",
              "\n",
              "    .dataframe tbody tr th {\n",
              "        vertical-align: top;\n",
              "    }\n",
              "\n",
              "    .dataframe thead th {\n",
              "        text-align: right;\n",
              "    }\n",
              "</style>\n",
              "<table border=\"1\" class=\"dataframe\">\n",
              "  <thead>\n",
              "    <tr style=\"text-align: right;\">\n",
              "      <th></th>\n",
              "      <th>Polarity</th>\n",
              "      <th>Text</th>\n",
              "    </tr>\n",
              "  </thead>\n",
              "  <tbody>\n",
              "    <tr>\n",
              "      <th>0</th>\n",
              "      <td>0</td>\n",
              "      <td>[switchfoot, httptwitpiccomyzl, awww, thats, b...</td>\n",
              "    </tr>\n",
              "    <tr>\n",
              "      <th>1</th>\n",
              "      <td>0</td>\n",
              "      <td>[upset, cant, update, facebook, texting, might...</td>\n",
              "    </tr>\n",
              "    <tr>\n",
              "      <th>2</th>\n",
              "      <td>0</td>\n",
              "      <td>[kenichan, dived, many, times, ball, managed, ...</td>\n",
              "    </tr>\n",
              "    <tr>\n",
              "      <th>3</th>\n",
              "      <td>0</td>\n",
              "      <td>[whole, body, feels, itchy, like, fire]</td>\n",
              "    </tr>\n",
              "    <tr>\n",
              "      <th>4</th>\n",
              "      <td>0</td>\n",
              "      <td>[nationwideclass, no, not, behaving, im, mad, ...</td>\n",
              "    </tr>\n",
              "    <tr>\n",
              "      <th>5</th>\n",
              "      <td>0</td>\n",
              "      <td>[kwesidei, not, whole, crew]</td>\n",
              "    </tr>\n",
              "    <tr>\n",
              "      <th>6</th>\n",
              "      <td>0</td>\n",
              "      <td>[need, hug]</td>\n",
              "    </tr>\n",
              "    <tr>\n",
              "      <th>7</th>\n",
              "      <td>0</td>\n",
              "      <td>[loltrish, hey, long, time, no, see, yes, rain...</td>\n",
              "    </tr>\n",
              "    <tr>\n",
              "      <th>8</th>\n",
              "      <td>0</td>\n",
              "      <td>[tatianak, nope, didnt]</td>\n",
              "    </tr>\n",
              "    <tr>\n",
              "      <th>9</th>\n",
              "      <td>0</td>\n",
              "      <td>[twittera, que, muera]</td>\n",
              "    </tr>\n",
              "  </tbody>\n",
              "</table>\n",
              "</div>\n",
              "      <button class=\"colab-df-convert\" onclick=\"convertToInteractive('df-50dbe118-370f-4a96-a713-8bd309bc785e')\"\n",
              "              title=\"Convert this dataframe to an interactive table.\"\n",
              "              style=\"display:none;\">\n",
              "        \n",
              "  <svg xmlns=\"http://www.w3.org/2000/svg\" height=\"24px\"viewBox=\"0 0 24 24\"\n",
              "       width=\"24px\">\n",
              "    <path d=\"M0 0h24v24H0V0z\" fill=\"none\"/>\n",
              "    <path d=\"M18.56 5.44l.94 2.06.94-2.06 2.06-.94-2.06-.94-.94-2.06-.94 2.06-2.06.94zm-11 1L8.5 8.5l.94-2.06 2.06-.94-2.06-.94L8.5 2.5l-.94 2.06-2.06.94zm10 10l.94 2.06.94-2.06 2.06-.94-2.06-.94-.94-2.06-.94 2.06-2.06.94z\"/><path d=\"M17.41 7.96l-1.37-1.37c-.4-.4-.92-.59-1.43-.59-.52 0-1.04.2-1.43.59L10.3 9.45l-7.72 7.72c-.78.78-.78 2.05 0 2.83L4 21.41c.39.39.9.59 1.41.59.51 0 1.02-.2 1.41-.59l7.78-7.78 2.81-2.81c.8-.78.8-2.07 0-2.86zM5.41 20L4 18.59l7.72-7.72 1.47 1.35L5.41 20z\"/>\n",
              "  </svg>\n",
              "      </button>\n",
              "      \n",
              "  <style>\n",
              "    .colab-df-container {\n",
              "      display:flex;\n",
              "      flex-wrap:wrap;\n",
              "      gap: 12px;\n",
              "    }\n",
              "\n",
              "    .colab-df-convert {\n",
              "      background-color: #E8F0FE;\n",
              "      border: none;\n",
              "      border-radius: 50%;\n",
              "      cursor: pointer;\n",
              "      display: none;\n",
              "      fill: #1967D2;\n",
              "      height: 32px;\n",
              "      padding: 0 0 0 0;\n",
              "      width: 32px;\n",
              "    }\n",
              "\n",
              "    .colab-df-convert:hover {\n",
              "      background-color: #E2EBFA;\n",
              "      box-shadow: 0px 1px 2px rgba(60, 64, 67, 0.3), 0px 1px 3px 1px rgba(60, 64, 67, 0.15);\n",
              "      fill: #174EA6;\n",
              "    }\n",
              "\n",
              "    [theme=dark] .colab-df-convert {\n",
              "      background-color: #3B4455;\n",
              "      fill: #D2E3FC;\n",
              "    }\n",
              "\n",
              "    [theme=dark] .colab-df-convert:hover {\n",
              "      background-color: #434B5C;\n",
              "      box-shadow: 0px 1px 3px 1px rgba(0, 0, 0, 0.15);\n",
              "      filter: drop-shadow(0px 1px 2px rgba(0, 0, 0, 0.3));\n",
              "      fill: #FFFFFF;\n",
              "    }\n",
              "  </style>\n",
              "\n",
              "      <script>\n",
              "        const buttonEl =\n",
              "          document.querySelector('#df-50dbe118-370f-4a96-a713-8bd309bc785e button.colab-df-convert');\n",
              "        buttonEl.style.display =\n",
              "          google.colab.kernel.accessAllowed ? 'block' : 'none';\n",
              "\n",
              "        async function convertToInteractive(key) {\n",
              "          const element = document.querySelector('#df-50dbe118-370f-4a96-a713-8bd309bc785e');\n",
              "          const dataTable =\n",
              "            await google.colab.kernel.invokeFunction('convertToInteractive',\n",
              "                                                     [key], {});\n",
              "          if (!dataTable) return;\n",
              "\n",
              "          const docLinkHtml = 'Like what you see? Visit the ' +\n",
              "            '<a target=\"_blank\" href=https://colab.research.google.com/notebooks/data_table.ipynb>data table notebook</a>'\n",
              "            + ' to learn more about interactive tables.';\n",
              "          element.innerHTML = '';\n",
              "          dataTable['output_type'] = 'display_data';\n",
              "          await google.colab.output.renderOutput(dataTable, element);\n",
              "          const docLink = document.createElement('div');\n",
              "          docLink.innerHTML = docLinkHtml;\n",
              "          element.appendChild(docLink);\n",
              "        }\n",
              "      </script>\n",
              "    </div>\n",
              "  </div>\n",
              "  "
            ]
          },
          "metadata": {},
          "execution_count": 34
        }
      ],
      "source": [
        "tweets_data_tokenized.head(10)"
      ],
      "id": "1bTY01Ewkuud"
    },
    {
      "cell_type": "markdown",
      "metadata": {
        "id": "33e81ab5"
      },
      "source": [
        "#### 3.7 Stemming"
      ],
      "id": "33e81ab5"
    },
    {
      "cell_type": "code",
      "execution_count": 35,
      "metadata": {
        "colab": {
          "base_uri": "https://localhost:8080/"
        },
        "id": "ee2964c4",
        "outputId": "3e92aa7e-1ce3-4109-9fef-c4b5f098ac6e"
      },
      "outputs": [
        {
          "output_type": "stream",
          "name": "stderr",
          "text": [
            "/usr/local/lib/python3.10/dist-packages/dask/dataframe/core.py:4134: UserWarning: \n",
            "You did not provide metadata, so Dask is running your function on a small dataset to guess output types. It is possible that Dask will guess incorrectly.\n",
            "To provide an explicit output types or to silence this message, please provide the `meta=` keyword, as described in the map or apply function that you are using.\n",
            "  Before: .apply(func)\n",
            "  After:  .apply(func, meta=('Text', 'object'))\n",
            "\n",
            "  warnings.warn(meta_warning(meta))\n"
          ]
        }
      ],
      "source": [
        "st = nltk.PorterStemmer()\n",
        "def stemming_on_text(text):\n",
        "    text = [st.stem(word) for word in text]\n",
        "    return \" \".join(text)\n",
        "\n",
        "tweets_data_dask['Text']= tweets_data_dask['Text'].apply(lambda x: stemming_on_text(x))"
      ],
      "id": "ee2964c4"
    },
    {
      "cell_type": "markdown",
      "metadata": {
        "id": "7307aa74"
      },
      "source": [
        "#### 3.8 Lemmatization"
      ],
      "id": "7307aa74"
    },
    {
      "cell_type": "code",
      "execution_count": 36,
      "metadata": {
        "colab": {
          "base_uri": "https://localhost:8080/"
        },
        "id": "IiLGT740g9mV",
        "outputId": "3e454c3a-84b2-4f6c-c01e-67d8a1a5ecfa"
      },
      "outputs": [
        {
          "output_type": "stream",
          "name": "stderr",
          "text": [
            "[nltk_data] Downloading package wordnet to /root/nltk_data...\n"
          ]
        },
        {
          "output_type": "execute_result",
          "data": {
            "text/plain": [
              "True"
            ]
          },
          "metadata": {},
          "execution_count": 36
        }
      ],
      "source": [
        "nltk.download('wordnet')"
      ],
      "id": "IiLGT740g9mV"
    },
    {
      "cell_type": "code",
      "execution_count": 37,
      "metadata": {
        "colab": {
          "base_uri": "https://localhost:8080/"
        },
        "id": "a628b682",
        "outputId": "5f64c8a8-344f-471d-d245-671df6ec27df"
      },
      "outputs": [
        {
          "output_type": "stream",
          "name": "stderr",
          "text": [
            "/usr/local/lib/python3.10/dist-packages/dask/dataframe/core.py:4134: UserWarning: \n",
            "You did not provide metadata, so Dask is running your function on a small dataset to guess output types. It is possible that Dask will guess incorrectly.\n",
            "To provide an explicit output types or to silence this message, please provide the `meta=` keyword, as described in the map or apply function that you are using.\n",
            "  Before: .apply(func)\n",
            "  After:  .apply(func, meta=('Text', 'object'))\n",
            "\n",
            "  warnings.warn(meta_warning(meta))\n"
          ]
        }
      ],
      "source": [
        "lm = nltk.WordNetLemmatizer()\n",
        "def lemmatizer_on_text(text):\n",
        "    text = [lm.lemmatize(word) for word in text]\n",
        "    return \" \".join(text)\n",
        "tweets_data_dask['Text'] = tweets_data_dask['Text'].apply(lambda x: lm.lemmatize(x))"
      ],
      "id": "a628b682"
    },
    {
      "cell_type": "code",
      "execution_count": 38,
      "metadata": {
        "id": "z8V5CraAekgt"
      },
      "outputs": [],
      "source": [
        "tweets_data_tokenized = tweets_data_dask.compute()"
      ],
      "id": "z8V5CraAekgt"
    },
    {
      "cell_type": "code",
      "execution_count": 39,
      "metadata": {
        "id": "Aoqo-xCcesjU",
        "colab": {
          "base_uri": "https://localhost:8080/",
          "height": 363
        },
        "outputId": "d4e24847-3299-4adb-846b-ddf94d770c02"
      },
      "outputs": [
        {
          "output_type": "execute_result",
          "data": {
            "text/plain": [
              "   Polarity                                               Text\n",
              "0         0  switchfoot httptwitpiccomyzl  awww thats bumme...\n",
              "1         0  upset cant update facebook texting might cry r...\n",
              "2         0  kenichan dived many times ball managed save   ...\n",
              "3         0                  whole body feels itchy like fire \n",
              "4         0  nationwideclass no not behaving im mad cant se...\n",
              "5         0                           kwesidei not whole crew \n",
              "6         0                                          need hug \n",
              "7         0  loltrish hey  long time no see yes rains bit b...\n",
              "8         0                               tatianak nope didnt \n",
              "9         0                               twittera que muera  "
            ],
            "text/html": [
              "\n",
              "  <div id=\"df-13d3ba69-2efa-48fc-ace6-05d445e0d99f\">\n",
              "    <div class=\"colab-df-container\">\n",
              "      <div>\n",
              "<style scoped>\n",
              "    .dataframe tbody tr th:only-of-type {\n",
              "        vertical-align: middle;\n",
              "    }\n",
              "\n",
              "    .dataframe tbody tr th {\n",
              "        vertical-align: top;\n",
              "    }\n",
              "\n",
              "    .dataframe thead th {\n",
              "        text-align: right;\n",
              "    }\n",
              "</style>\n",
              "<table border=\"1\" class=\"dataframe\">\n",
              "  <thead>\n",
              "    <tr style=\"text-align: right;\">\n",
              "      <th></th>\n",
              "      <th>Polarity</th>\n",
              "      <th>Text</th>\n",
              "    </tr>\n",
              "  </thead>\n",
              "  <tbody>\n",
              "    <tr>\n",
              "      <th>0</th>\n",
              "      <td>0</td>\n",
              "      <td>switchfoot httptwitpiccomyzl  awww thats bumme...</td>\n",
              "    </tr>\n",
              "    <tr>\n",
              "      <th>1</th>\n",
              "      <td>0</td>\n",
              "      <td>upset cant update facebook texting might cry r...</td>\n",
              "    </tr>\n",
              "    <tr>\n",
              "      <th>2</th>\n",
              "      <td>0</td>\n",
              "      <td>kenichan dived many times ball managed save   ...</td>\n",
              "    </tr>\n",
              "    <tr>\n",
              "      <th>3</th>\n",
              "      <td>0</td>\n",
              "      <td>whole body feels itchy like fire</td>\n",
              "    </tr>\n",
              "    <tr>\n",
              "      <th>4</th>\n",
              "      <td>0</td>\n",
              "      <td>nationwideclass no not behaving im mad cant se...</td>\n",
              "    </tr>\n",
              "    <tr>\n",
              "      <th>5</th>\n",
              "      <td>0</td>\n",
              "      <td>kwesidei not whole crew</td>\n",
              "    </tr>\n",
              "    <tr>\n",
              "      <th>6</th>\n",
              "      <td>0</td>\n",
              "      <td>need hug</td>\n",
              "    </tr>\n",
              "    <tr>\n",
              "      <th>7</th>\n",
              "      <td>0</td>\n",
              "      <td>loltrish hey  long time no see yes rains bit b...</td>\n",
              "    </tr>\n",
              "    <tr>\n",
              "      <th>8</th>\n",
              "      <td>0</td>\n",
              "      <td>tatianak nope didnt</td>\n",
              "    </tr>\n",
              "    <tr>\n",
              "      <th>9</th>\n",
              "      <td>0</td>\n",
              "      <td>twittera que muera</td>\n",
              "    </tr>\n",
              "  </tbody>\n",
              "</table>\n",
              "</div>\n",
              "      <button class=\"colab-df-convert\" onclick=\"convertToInteractive('df-13d3ba69-2efa-48fc-ace6-05d445e0d99f')\"\n",
              "              title=\"Convert this dataframe to an interactive table.\"\n",
              "              style=\"display:none;\">\n",
              "        \n",
              "  <svg xmlns=\"http://www.w3.org/2000/svg\" height=\"24px\"viewBox=\"0 0 24 24\"\n",
              "       width=\"24px\">\n",
              "    <path d=\"M0 0h24v24H0V0z\" fill=\"none\"/>\n",
              "    <path d=\"M18.56 5.44l.94 2.06.94-2.06 2.06-.94-2.06-.94-.94-2.06-.94 2.06-2.06.94zm-11 1L8.5 8.5l.94-2.06 2.06-.94-2.06-.94L8.5 2.5l-.94 2.06-2.06.94zm10 10l.94 2.06.94-2.06 2.06-.94-2.06-.94-.94-2.06-.94 2.06-2.06.94z\"/><path d=\"M17.41 7.96l-1.37-1.37c-.4-.4-.92-.59-1.43-.59-.52 0-1.04.2-1.43.59L10.3 9.45l-7.72 7.72c-.78.78-.78 2.05 0 2.83L4 21.41c.39.39.9.59 1.41.59.51 0 1.02-.2 1.41-.59l7.78-7.78 2.81-2.81c.8-.78.8-2.07 0-2.86zM5.41 20L4 18.59l7.72-7.72 1.47 1.35L5.41 20z\"/>\n",
              "  </svg>\n",
              "      </button>\n",
              "      \n",
              "  <style>\n",
              "    .colab-df-container {\n",
              "      display:flex;\n",
              "      flex-wrap:wrap;\n",
              "      gap: 12px;\n",
              "    }\n",
              "\n",
              "    .colab-df-convert {\n",
              "      background-color: #E8F0FE;\n",
              "      border: none;\n",
              "      border-radius: 50%;\n",
              "      cursor: pointer;\n",
              "      display: none;\n",
              "      fill: #1967D2;\n",
              "      height: 32px;\n",
              "      padding: 0 0 0 0;\n",
              "      width: 32px;\n",
              "    }\n",
              "\n",
              "    .colab-df-convert:hover {\n",
              "      background-color: #E2EBFA;\n",
              "      box-shadow: 0px 1px 2px rgba(60, 64, 67, 0.3), 0px 1px 3px 1px rgba(60, 64, 67, 0.15);\n",
              "      fill: #174EA6;\n",
              "    }\n",
              "\n",
              "    [theme=dark] .colab-df-convert {\n",
              "      background-color: #3B4455;\n",
              "      fill: #D2E3FC;\n",
              "    }\n",
              "\n",
              "    [theme=dark] .colab-df-convert:hover {\n",
              "      background-color: #434B5C;\n",
              "      box-shadow: 0px 1px 3px 1px rgba(0, 0, 0, 0.15);\n",
              "      filter: drop-shadow(0px 1px 2px rgba(0, 0, 0, 0.3));\n",
              "      fill: #FFFFFF;\n",
              "    }\n",
              "  </style>\n",
              "\n",
              "      <script>\n",
              "        const buttonEl =\n",
              "          document.querySelector('#df-13d3ba69-2efa-48fc-ace6-05d445e0d99f button.colab-df-convert');\n",
              "        buttonEl.style.display =\n",
              "          google.colab.kernel.accessAllowed ? 'block' : 'none';\n",
              "\n",
              "        async function convertToInteractive(key) {\n",
              "          const element = document.querySelector('#df-13d3ba69-2efa-48fc-ace6-05d445e0d99f');\n",
              "          const dataTable =\n",
              "            await google.colab.kernel.invokeFunction('convertToInteractive',\n",
              "                                                     [key], {});\n",
              "          if (!dataTable) return;\n",
              "\n",
              "          const docLinkHtml = 'Like what you see? Visit the ' +\n",
              "            '<a target=\"_blank\" href=https://colab.research.google.com/notebooks/data_table.ipynb>data table notebook</a>'\n",
              "            + ' to learn more about interactive tables.';\n",
              "          element.innerHTML = '';\n",
              "          dataTable['output_type'] = 'display_data';\n",
              "          await google.colab.output.renderOutput(dataTable, element);\n",
              "          const docLink = document.createElement('div');\n",
              "          docLink.innerHTML = docLinkHtml;\n",
              "          element.appendChild(docLink);\n",
              "        }\n",
              "      </script>\n",
              "    </div>\n",
              "  </div>\n",
              "  "
            ]
          },
          "metadata": {},
          "execution_count": 39
        }
      ],
      "source": [
        "tweets_data.head(10)"
      ],
      "id": "Aoqo-xCcesjU"
    },
    {
      "cell_type": "markdown",
      "metadata": {
        "id": "6f78bf5e"
      },
      "source": [
        "## 4. Train and test split"
      ],
      "id": "6f78bf5e"
    },
    {
      "cell_type": "code",
      "execution_count": 40,
      "metadata": {
        "id": "d7265975"
      },
      "outputs": [],
      "source": [
        "X = tweets_data['Text']\n",
        "y = tweets_data['Polarity']"
      ],
      "id": "d7265975"
    },
    {
      "cell_type": "code",
      "execution_count": 41,
      "metadata": {
        "id": "022a7850"
      },
      "outputs": [],
      "source": [
        "X_train, X_test, y_train, y_test = train_test_split(X,y,test_size = 0.1, random_state = 42)"
      ],
      "id": "022a7850"
    },
    {
      "cell_type": "code",
      "execution_count": 42,
      "metadata": {
        "id": "451cc0fb",
        "colab": {
          "base_uri": "https://localhost:8080/"
        },
        "outputId": "6682f091-eebb-4508-f6ee-8638e2602fb8"
      },
      "outputs": [
        {
          "output_type": "stream",
          "name": "stdout",
          "text": [
            "1205857                            saw picture heart melted \n",
            "20363                       ethanonly uni exam period   asot\n",
            "902802                              jammin capital garde  xx\n",
            "223111     talking mike skype greatest thing ever ohio fa...\n",
            "12577      gosh dont hate guys damn perfect but never go ...\n",
            "                                 ...                        \n",
            "259178         songs middle change doesnt want born arghhhh \n",
            "1414414                            officialnjonas good luck \n",
            "131932                      proudgamertweet rather average  \n",
            "671155     pickin misstinayao waitin sadittysash  hurry u...\n",
            "121958        home studying maths wooot  im going fail shit \n",
            "Name: Text, Length: 1440000, dtype: object\n"
          ]
        }
      ],
      "source": [
        "print(X_train)"
      ],
      "id": "451cc0fb"
    },
    {
      "cell_type": "markdown",
      "metadata": {
        "id": "4ba155c7"
      },
      "source": [
        "## 5. TF-IDF Vectorizer"
      ],
      "id": "4ba155c7"
    },
    {
      "cell_type": "code",
      "execution_count": 43,
      "metadata": {
        "id": "74bbeb5f",
        "colab": {
          "base_uri": "https://localhost:8080/",
          "height": 75
        },
        "outputId": "12358204-aa20-4e11-ceef-7a74e0230544"
      },
      "outputs": [
        {
          "output_type": "execute_result",
          "data": {
            "text/plain": [
              "TfidfVectorizer(max_features=100000)"
            ],
            "text/html": [
              "<style>#sk-container-id-1 {color: black;background-color: white;}#sk-container-id-1 pre{padding: 0;}#sk-container-id-1 div.sk-toggleable {background-color: white;}#sk-container-id-1 label.sk-toggleable__label {cursor: pointer;display: block;width: 100%;margin-bottom: 0;padding: 0.3em;box-sizing: border-box;text-align: center;}#sk-container-id-1 label.sk-toggleable__label-arrow:before {content: \"▸\";float: left;margin-right: 0.25em;color: #696969;}#sk-container-id-1 label.sk-toggleable__label-arrow:hover:before {color: black;}#sk-container-id-1 div.sk-estimator:hover label.sk-toggleable__label-arrow:before {color: black;}#sk-container-id-1 div.sk-toggleable__content {max-height: 0;max-width: 0;overflow: hidden;text-align: left;background-color: #f0f8ff;}#sk-container-id-1 div.sk-toggleable__content pre {margin: 0.2em;color: black;border-radius: 0.25em;background-color: #f0f8ff;}#sk-container-id-1 input.sk-toggleable__control:checked~div.sk-toggleable__content {max-height: 200px;max-width: 100%;overflow: auto;}#sk-container-id-1 input.sk-toggleable__control:checked~label.sk-toggleable__label-arrow:before {content: \"▾\";}#sk-container-id-1 div.sk-estimator input.sk-toggleable__control:checked~label.sk-toggleable__label {background-color: #d4ebff;}#sk-container-id-1 div.sk-label input.sk-toggleable__control:checked~label.sk-toggleable__label {background-color: #d4ebff;}#sk-container-id-1 input.sk-hidden--visually {border: 0;clip: rect(1px 1px 1px 1px);clip: rect(1px, 1px, 1px, 1px);height: 1px;margin: -1px;overflow: hidden;padding: 0;position: absolute;width: 1px;}#sk-container-id-1 div.sk-estimator {font-family: monospace;background-color: #f0f8ff;border: 1px dotted black;border-radius: 0.25em;box-sizing: border-box;margin-bottom: 0.5em;}#sk-container-id-1 div.sk-estimator:hover {background-color: #d4ebff;}#sk-container-id-1 div.sk-parallel-item::after {content: \"\";width: 100%;border-bottom: 1px solid gray;flex-grow: 1;}#sk-container-id-1 div.sk-label:hover label.sk-toggleable__label {background-color: #d4ebff;}#sk-container-id-1 div.sk-serial::before {content: \"\";position: absolute;border-left: 1px solid gray;box-sizing: border-box;top: 0;bottom: 0;left: 50%;z-index: 0;}#sk-container-id-1 div.sk-serial {display: flex;flex-direction: column;align-items: center;background-color: white;padding-right: 0.2em;padding-left: 0.2em;position: relative;}#sk-container-id-1 div.sk-item {position: relative;z-index: 1;}#sk-container-id-1 div.sk-parallel {display: flex;align-items: stretch;justify-content: center;background-color: white;position: relative;}#sk-container-id-1 div.sk-item::before, #sk-container-id-1 div.sk-parallel-item::before {content: \"\";position: absolute;border-left: 1px solid gray;box-sizing: border-box;top: 0;bottom: 0;left: 50%;z-index: -1;}#sk-container-id-1 div.sk-parallel-item {display: flex;flex-direction: column;z-index: 1;position: relative;background-color: white;}#sk-container-id-1 div.sk-parallel-item:first-child::after {align-self: flex-end;width: 50%;}#sk-container-id-1 div.sk-parallel-item:last-child::after {align-self: flex-start;width: 50%;}#sk-container-id-1 div.sk-parallel-item:only-child::after {width: 0;}#sk-container-id-1 div.sk-dashed-wrapped {border: 1px dashed gray;margin: 0 0.4em 0.5em 0.4em;box-sizing: border-box;padding-bottom: 0.4em;background-color: white;}#sk-container-id-1 div.sk-label label {font-family: monospace;font-weight: bold;display: inline-block;line-height: 1.2em;}#sk-container-id-1 div.sk-label-container {text-align: center;}#sk-container-id-1 div.sk-container {/* jupyter's `normalize.less` sets `[hidden] { display: none; }` but bootstrap.min.css set `[hidden] { display: none !important; }` so we also need the `!important` here to be able to override the default hidden behavior on the sphinx rendered scikit-learn.org. See: https://github.com/scikit-learn/scikit-learn/issues/21755 */display: inline-block !important;position: relative;}#sk-container-id-1 div.sk-text-repr-fallback {display: none;}</style><div id=\"sk-container-id-1\" class=\"sk-top-container\"><div class=\"sk-text-repr-fallback\"><pre>TfidfVectorizer(max_features=100000)</pre><b>In a Jupyter environment, please rerun this cell to show the HTML representation or trust the notebook. <br />On GitHub, the HTML representation is unable to render, please try loading this page with nbviewer.org.</b></div><div class=\"sk-container\" hidden><div class=\"sk-item\"><div class=\"sk-estimator sk-toggleable\"><input class=\"sk-toggleable__control sk-hidden--visually\" id=\"sk-estimator-id-1\" type=\"checkbox\" checked><label for=\"sk-estimator-id-1\" class=\"sk-toggleable__label sk-toggleable__label-arrow\">TfidfVectorizer</label><div class=\"sk-toggleable__content\"><pre>TfidfVectorizer(max_features=100000)</pre></div></div></div></div></div>"
            ]
          },
          "metadata": {},
          "execution_count": 43
        }
      ],
      "source": [
        "vectoriser = TfidfVectorizer(max_features=100000)\n",
        "vectoriser.fit(X_train)"
      ],
      "id": "74bbeb5f"
    },
    {
      "cell_type": "code",
      "execution_count": 44,
      "metadata": {
        "id": "983588b9"
      },
      "outputs": [],
      "source": [
        "X_train = vectoriser.fit_transform(X_train)\n",
        "X_test  = vectoriser.transform(X_test)"
      ],
      "id": "983588b9"
    },
    {
      "cell_type": "markdown",
      "metadata": {
        "id": "f9ad64be"
      },
      "source": [
        "## 6. Classification models"
      ],
      "id": "f9ad64be"
    },
    {
      "cell_type": "markdown",
      "metadata": {
        "id": "bfbfb8f1"
      },
      "source": [
        "#### 6.1 Naive Bayes Classifier"
      ],
      "id": "bfbfb8f1"
    },
    {
      "cell_type": "code",
      "execution_count": 45,
      "metadata": {
        "id": "e924d743"
      },
      "outputs": [],
      "source": [
        "BNBmodel = BernoulliNB()\n",
        "BNBmodel.fit(X_train, y_train)\n",
        "y_pred_nb = BNBmodel.predict(X_test)"
      ],
      "id": "e924d743"
    },
    {
      "cell_type": "code",
      "execution_count": 46,
      "metadata": {
        "id": "ca07b7cd",
        "colab": {
          "base_uri": "https://localhost:8080/"
        },
        "outputId": "9cc4c9e6-4db0-46fd-850d-b3cbe0734bc7"
      },
      "outputs": [
        {
          "output_type": "stream",
          "name": "stdout",
          "text": [
            "              precision    recall  f1-score   support\n",
            "\n",
            "           0       0.78      0.78      0.78     79812\n",
            "           1       0.78      0.78      0.78     80188\n",
            "\n",
            "    accuracy                           0.78    160000\n",
            "   macro avg       0.78      0.78      0.78    160000\n",
            "weighted avg       0.78      0.78      0.78    160000\n",
            "\n"
          ]
        }
      ],
      "source": [
        "print(classification_report(y_test, y_pred_nb))"
      ],
      "id": "ca07b7cd"
    },
    {
      "cell_type": "code",
      "execution_count": 47,
      "metadata": {
        "id": "42e23245",
        "colab": {
          "base_uri": "https://localhost:8080/",
          "height": 443
        },
        "outputId": "71b2c051-97dc-4d95-f1d6-be57298ffeea"
      },
      "outputs": [
        {
          "output_type": "execute_result",
          "data": {
            "text/plain": [
              "<Axes: >"
            ]
          },
          "metadata": {},
          "execution_count": 47
        },
        {
          "output_type": "display_data",
          "data": {
            "text/plain": [
              "<Figure size 640x480 with 2 Axes>"
            ],
            "image/png": "[encoded data removed]"
          },
          "metadata": {}
        }
      ],
      "source": [
        "cm = confusion_matrix(y_test, y_pred_nb)\n",
        "sns.heatmap(cm, annot = True, fmt=\".0f\")"
      ],
      "id": "42e23245"
    },
    {
      "cell_type": "markdown",
      "metadata": {
        "id": "5dfe7ff3"
      },
      "source": [
        " #### 6.2 Logistic Regresion "
      ],
      "id": "5dfe7ff3"
    },
    {
      "cell_type": "code",
      "execution_count": 48,
      "metadata": {
        "id": "010b80b8"
      },
      "outputs": [],
      "source": [
        "LRmodel = LogisticRegression(max_iter = 1000)\n",
        "LRmodel.fit(X_train, y_train)\n",
        "y_pred_lr = LRmodel.predict(X_test)"
      ],
      "id": "010b80b8"
    },
    {
      "cell_type": "code",
      "execution_count": 49,
      "metadata": {
        "id": "da8d9569",
        "colab": {
          "base_uri": "https://localhost:8080/"
        },
        "outputId": "166d45e2-2ec1-4a2f-a21d-fc7e6fb6432b"
      },
      "outputs": [
        {
          "output_type": "stream",
          "name": "stdout",
          "text": [
            "              precision    recall  f1-score   support\n",
            "\n",
            "           0       0.80      0.78      0.79     79812\n",
            "           1       0.79      0.81      0.80     80188\n",
            "\n",
            "    accuracy                           0.80    160000\n",
            "   macro avg       0.80      0.80      0.80    160000\n",
            "weighted avg       0.80      0.80      0.80    160000\n",
            "\n"
          ]
        }
      ],
      "source": [
        "print(classification_report(y_test, y_pred_lr))"
      ],
      "id": "da8d9569"
    },
    {
      "cell_type": "code",
      "execution_count": 50,
      "metadata": {
        "id": "2fb360b5",
        "colab": {
          "base_uri": "https://localhost:8080/",
          "height": 443
        },
        "outputId": "797fda0f-c7de-48f7-fc8c-b69ba5c88a67"
      },
      "outputs": [
        {
          "output_type": "execute_result",
          "data": {
            "text/plain": [
              "<Axes: >"
            ]
          },
          "metadata": {},
          "execution_count": 50
        },
        {
          "output_type": "display_data",
          "data": {
            "text/plain": [
              "<Figure size 640x480 with 2 Axes>"
            ],
            "image/png": "[encoded data removed]"
          },
          "metadata": {}
        }
      ],
      "source": [
        "cm = confusion_matrix(y_test, y_pred_lr)\n",
        "sns.heatmap(cm, annot = True, fmt=\".0f\")"
      ],
      "id": "2fb360b5"
    },
    {
      "cell_type": "markdown",
      "metadata": {
        "id": "a6297e6a"
      },
      "source": [
        "## 7. ROC Curves"
      ],
      "id": "a6297e6a"
    },
    {
      "cell_type": "markdown",
      "metadata": {
        "id": "pWshydp4KX0L"
      },
      "source": [
        "#### 7.1 Pobabilities for positve test"
      ],
      "id": "pWshydp4KX0L"
    },
    {
      "cell_type": "code",
      "execution_count": 51,
      "metadata": {
        "id": "Fa68sxZL_Qk6"
      },
      "outputs": [],
      "source": [
        "nb_probs = BNBmodel.predict_proba(X_test)\n",
        "lr_probs = LRmodel.predict_proba(X_test)\n",
        "nb_probs = nb_probs[:,1]\n",
        "lr_probs = lr_probs[:,1]"
      ],
      "id": "Fa68sxZL_Qk6"
    },
    {
      "cell_type": "markdown",
      "metadata": {
        "id": "bYorOQLeKi8y"
      },
      "source": [
        "#### 7.2 ROC_curves and AUC_scores"
      ],
      "id": "bYorOQLeKi8y"
    },
    {
      "cell_type": "code",
      "execution_count": 52,
      "metadata": {
        "id": "db8af526"
      },
      "outputs": [],
      "source": [
        "help_prob=[0 for _ in range(len(y_test))]\n",
        "nb_tpr, nb_fpr, _ = roc_curve(y_test, nb_probs)\n",
        "lr_tpr, lr_fpr, _ = roc_curve(y_test, lr_probs)\n",
        "help_tpr, help_fpr, _ = roc_curve(y_test, help_prob)"
      ],
      "id": "db8af526"
    },
    {
      "cell_type": "code",
      "execution_count": 53,
      "metadata": {
        "id": "KqZ9L0jWLEuW"
      },
      "outputs": [],
      "source": [
        "help_auc = roc_auc_score(y_test, help_prob)\n",
        "nb_auc = roc_auc_score(y_test, nb_probs)\n",
        "lr_auc = roc_auc_score(y_test, lr_probs)"
      ],
      "id": "KqZ9L0jWLEuW"
    },
    {
      "cell_type": "markdown",
      "metadata": {
        "id": "nSqK8rl4LzrE"
      },
      "source": [
        "#### 7.3 Chart"
      ],
      "id": "nSqK8rl4LzrE"
    },
    {
      "cell_type": "code",
      "execution_count": 54,
      "metadata": {
        "id": "426ce0ea",
        "colab": {
          "base_uri": "https://localhost:8080/",
          "height": 736
        },
        "outputId": "cb1841c2-91b8-4aa6-a61e-fc24b157b955"
      },
      "outputs": [
        {
          "output_type": "execute_result",
          "data": {
            "text/plain": [
              "<matplotlib.legend.Legend at 0x7fa356616500>"
            ]
          },
          "metadata": {},
          "execution_count": 54
        },
        {
          "output_type": "display_data",
          "data": {
            "text/plain": [
              "<Figure size 1200x800 with 1 Axes>"
            ],
            "image/png": "[encoded data removed]"
          },
          "metadata": {}
        }
      ],
      "source": [
        "fig, ax = plt.subplots(figsize = (12,8))\n",
        "ax.plot(help_tpr, help_fpr, label = f'No model, AUC: {round(help_auc, 2)}', color='b', linestyle='--')\n",
        "ax.plot(nb_tpr, nb_fpr, label = f'Naive Bayes, AUC: {round(nb_auc, 2)}', color='g')\n",
        "ax.plot(lr_tpr, lr_fpr, label = f'Logistic Regression, AUC: {round(lr_auc, 2)}', color = 'y')\n",
        "ax.set_title('ROC curves')\n",
        "ax.set_xlabel('False positve values')\n",
        "ax.set_ylabel('True positve values')\n",
        "ax.legend()"
      ],
      "id": "426ce0ea"
    },
    {
      "cell_type": "markdown",
      "metadata": {
        "id": "yIiFP524idlG"
      },
      "source": [
        "## 8. Neural Network"
      ],
      "id": "yIiFP524idlG"
    },
    {
      "cell_type": "markdown",
      "source": [
        "#### 8.1 Tokenization"
      ],
      "metadata": {
        "id": "iNmMfwD3l38D"
      },
      "id": "iNmMfwD3l38D"
    },
    {
      "cell_type": "code",
      "execution_count": 55,
      "metadata": {
        "id": "0gjCWF4tidP_"
      },
      "outputs": [],
      "source": [
        "text = tweets_data['Text']\n",
        "labels = tweets_data['Polarity']"
      ],
      "id": "0gjCWF4tidP_"
    },
    {
      "cell_type": "code",
      "source": [
        "tokenizer = Tokenizer()\n",
        "tokenizer.fit_on_texts(text)\n",
        "sequences = tokenizer.texts_to_sequences(text)"
      ],
      "metadata": {
        "id": "8l5KKjPXlnCM"
      },
      "id": "8l5KKjPXlnCM",
      "execution_count": 56,
      "outputs": []
    },
    {
      "cell_type": "code",
      "source": [
        "word_index = tokenizer.word_index"
      ],
      "metadata": {
        "id": "JtDXvVsHcEX5"
      },
      "id": "JtDXvVsHcEX5",
      "execution_count": 57,
      "outputs": []
    },
    {
      "cell_type": "markdown",
      "source": [
        "#### 8.2 Train, test, validation split"
      ],
      "metadata": {
        "id": "BuO8_eLAnP8e"
      },
      "id": "BuO8_eLAnP8e"
    },
    {
      "cell_type": "code",
      "source": [
        "data = pad_sequences(sequences)"
      ],
      "metadata": {
        "id": "gzcvW4mpn45x"
      },
      "id": "gzcvW4mpn45x",
      "execution_count": 58,
      "outputs": []
    },
    {
      "cell_type": "code",
      "source": [
        "X_train, X_test, y_train, y_test = train_test_split(data, labels,\n",
        "    test_size=0.2, shuffle = True, random_state = 8)\n",
        "\n",
        "X_train, X_val, y_train, y_val = train_test_split(X_train, y_train, \n",
        "    test_size=0.25, random_state= 8)"
      ],
      "metadata": {
        "id": "P9w-OoFocx5Q"
      },
      "id": "P9w-OoFocx5Q",
      "execution_count": 59,
      "outputs": []
    },
    {
      "cell_type": "code",
      "source": [
        "max_length = data.shape[1]\n",
        "vocab_size = len(word_index)\n",
        "embedding_dim = 150"
      ],
      "metadata": {
        "id": "f87l157ec2UH"
      },
      "id": "f87l157ec2UH",
      "execution_count": 60,
      "outputs": []
    },
    {
      "cell_type": "markdown",
      "source": [
        "#### 8.3 Model"
      ],
      "metadata": {
        "id": "TSyzkR3my_OO"
      },
      "id": "TSyzkR3my_OO"
    },
    {
      "cell_type": "code",
      "source": [
        "model = Sequential()\n",
        "model.add(Embedding(vocab_size, embedding_dim, input_length=max_length))\n",
        "model.add(Dropout(0.5))\n",
        "model.add(LSTM(100, dropout=0.2, recurrent_dropout=0.2))\n",
        "model.add(Dense(1, activation='sigmoid'))"
      ],
      "metadata": {
        "id": "9y-W-ZkOdja3",
        "colab": {
          "base_uri": "https://localhost:8080/"
        },
        "outputId": "681e06da-2e40-495b-d7b9-ad37070ec2eb"
      },
      "id": "9y-W-ZkOdja3",
      "execution_count": 61,
      "outputs": [
        {
          "output_type": "stream",
          "name": "stderr",
          "text": [
            "WARNING:tensorflow:Layer lstm will not use cuDNN kernels since it doesn't meet the criteria. It will use a generic GPU kernel as fallback when running on GPU.\n"
          ]
        }
      ]
    },
    {
      "cell_type": "code",
      "source": [
        "model.compile(loss='binary_crossentropy', optimizer='adam', metrics=['accuracy'])"
      ],
      "metadata": {
        "id": "ik3YiSgBdo3W"
      },
      "id": "ik3YiSgBdo3W",
      "execution_count": 62,
      "outputs": []
    },
    {
      "cell_type": "code",
      "source": [
        "history = model.fit(X_train, y_train, epochs=10, validation_data=(X_val, y_val), batch_size = 10000, verbose=2)"
      ],
      "metadata": {
        "id": "LqtCNLLnduyG",
        "colab": {
          "base_uri": "https://localhost:8080/"
        },
        "outputId": "d3e57d45-5af3-494a-ebec-1e99a832a22c"
      },
      "id": "LqtCNLLnduyG",
      "execution_count": 63,
      "outputs": [
        {
          "output_type": "stream",
          "name": "stdout",
          "text": [
            "Epoch 1/10\n",
            "96/96 - 52s - loss: 0.5393 - accuracy: 0.7292 - val_loss: 0.4541 - val_accuracy: 0.7900 - 52s/epoch - 542ms/step\n",
            "Epoch 2/10\n",
            "96/96 - 39s - loss: 0.4281 - accuracy: 0.8053 - val_loss: 0.4365 - val_accuracy: 0.7982 - 39s/epoch - 406ms/step\n",
            "Epoch 3/10\n",
            "96/96 - 37s - loss: 0.3843 - accuracy: 0.8300 - val_loss: 0.4371 - val_accuracy: 0.7986 - 37s/epoch - 386ms/step\n",
            "Epoch 4/10\n",
            "96/96 - 34s - loss: 0.3366 - accuracy: 0.8559 - val_loss: 0.4489 - val_accuracy: 0.7930 - 34s/epoch - 358ms/step\n",
            "Epoch 5/10\n",
            "96/96 - 34s - loss: 0.2946 - accuracy: 0.8769 - val_loss: 0.4722 - val_accuracy: 0.7909 - 34s/epoch - 351ms/step\n",
            "Epoch 6/10\n",
            "96/96 - 33s - loss: 0.2640 - accuracy: 0.8911 - val_loss: 0.4899 - val_accuracy: 0.7882 - 33s/epoch - 341ms/step\n",
            "Epoch 7/10\n",
            "96/96 - 33s - loss: 0.2401 - accuracy: 0.9016 - val_loss: 0.5091 - val_accuracy: 0.7864 - 33s/epoch - 342ms/step\n",
            "Epoch 8/10\n",
            "96/96 - 32s - loss: 0.2215 - accuracy: 0.9092 - val_loss: 0.5517 - val_accuracy: 0.7830 - 32s/epoch - 338ms/step\n",
            "Epoch 9/10\n",
            "96/96 - 33s - loss: 0.2066 - accuracy: 0.9150 - val_loss: 0.5692 - val_accuracy: 0.7830 - 33s/epoch - 344ms/step\n",
            "Epoch 10/10\n",
            "96/96 - 29s - loss: 0.1937 - accuracy: 0.9202 - val_loss: 0.6025 - val_accuracy: 0.7815 - 29s/epoch - 306ms/step\n"
          ]
        }
      ]
    },
    {
      "cell_type": "markdown",
      "source": [
        "#### 8.4 Learning curve"
      ],
      "metadata": {
        "id": "z7Vp8d7uA_9K"
      },
      "id": "z7Vp8d7uA_9K"
    },
    {
      "cell_type": "code",
      "source": [
        "train_loss = history.history['loss']\n",
        "train_accuracy = history.history['accuracy']\n",
        "val_loss = history.history['val_loss']\n",
        "val_accuracy = history.history['val_accuracy']"
      ],
      "metadata": {
        "id": "YVVj7VEoAt9F"
      },
      "id": "YVVj7VEoAt9F",
      "execution_count": 64,
      "outputs": []
    },
    {
      "cell_type": "code",
      "source": [
        "fig, (ax1, ax2) = plt.subplots(1, 2, figsize = (20,6))\n",
        "ax1.set_title('Train and validation loss')\n",
        "ax1.plot(train_loss, label='Train loss')\n",
        "ax1.plot(val_loss, label = 'Validation loss')\n",
        "ax2.set_title('Train and validation accuracy')\n",
        "ax2.plot(train_accuracy, label='Train accuracy')\n",
        "ax2.plot(val_accuracy, label = 'Validation accuracy')\n",
        "ax1.set_xlabel('Epoch')\n",
        "ax1.set_ylabel('Loss')\n",
        "ax2.set_xlabel('Epoch')\n",
        "ax2.set_ylabel('Accuracy')\n",
        "ax1.legend()\n",
        "ax2.legend()"
      ],
      "metadata": {
        "colab": {
          "base_uri": "https://localhost:8080/",
          "height": 582
        },
        "id": "vTUDOvcrD_4K",
        "outputId": "22abd8d5-832e-4f4d-8fd8-878e829f84d1"
      },
      "id": "vTUDOvcrD_4K",
      "execution_count": 65,
      "outputs": [
        {
          "output_type": "execute_result",
          "data": {
            "text/plain": [
              "<matplotlib.legend.Legend at 0x7fa344447070>"
            ]
          },
          "metadata": {},
          "execution_count": 65
        },
        {
          "output_type": "display_data",
          "data": {
            "text/plain": [
              "<Figure size 2000x600 with 2 Axes>"
            ],
            "image/png": "[encoded data removed]"
          },
          "metadata": {}
        }
      ]
    }
  ],
  "metadata": {
    "accelerator": "GPU",
    "colab": {
      "provenance": [],
      "gpuType": "T4",
      "include_colab_link": true
    },
    "kernelspec": {
      "display_name": "Python 3",
      "name": "python3"
    },
    "language_info": {
      "codemirror_mode": {
        "name": "ipython",
        "version": 3
      },
      "file_extension": ".py",
      "mimetype": "text/x-python",
      "name": "python",
      "nbconvert_exporter": "python",
      "pygments_lexer": "ipython3",
      "version": "3.11.2"
    }
  },
  "nbformat": 4,
  "nbformat_minor": 5
}